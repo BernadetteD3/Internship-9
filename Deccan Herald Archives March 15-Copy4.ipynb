{
 "cells": [
  {
   "cell_type": "markdown",
   "metadata": {},
   "source": [
    "# Deccan Herald Archives for the month of March 2015"
   ]
  },
  {
   "cell_type": "code",
   "execution_count": 62,
   "metadata": {},
   "outputs": [],
   "source": [
    "# Importing Libraries\n",
    "import pandas as pd\n",
    "from bs4 import BeautifulSoup\n",
    "import requests\n",
    "import selenium\n",
    "from selenium import webdriver\n",
    "import time\n",
    "from selenium.webdriver.common.keys import Keys\n",
    "from selenium.common.exceptions import NoSuchElementException\n",
    "from selenium.webdriver.support.ui import WebDriverWait\n",
    "from selenium.webdriver.support import expected_conditions as EC\n",
    "from selenium.webdriver.common.by import By\n",
    "from selenium.common.exceptions import StaleElementReferenceException\n",
    "from selenium.common.exceptions import ElementNotVisibleException\n",
    "import time\n",
    "from selenium.common.exceptions import SessionNotCreatedException\n",
    "from selenium.common.exceptions import TimeoutException"
   ]
  },
  {
   "cell_type": "code",
   "execution_count": 63,
   "metadata": {},
   "outputs": [],
   "source": [
    "driver = webdriver.Firefox(executable_path='C:\\GeckoDriver\\geckodriver.exe')"
   ]
  },
  {
   "cell_type": "code",
   "execution_count": 64,
   "metadata": {},
   "outputs": [],
   "source": [
    "url ='https://www.deccanherald.com/archives'"
   ]
  },
  {
   "cell_type": "code",
   "execution_count": 65,
   "metadata": {},
   "outputs": [],
   "source": [
    "# Open the webpage through the web driver\n",
    "driver.get(url)"
   ]
  },
  {
   "cell_type": "markdown",
   "metadata": {},
   "source": [
    "At this point you will have to click the \"I'll do it later\" button on the browser itself as it obscures the website. Then run the rest."
   ]
  },
  {
   "cell_type": "code",
   "execution_count": 66,
   "metadata": {},
   "outputs": [],
   "source": [
    "# clicking the calendar button\n",
    "calender_button=driver.find_element_by_xpath(\"/html/body/main/div[3]/div/div/div/div/div/div/div/div/div/section/div/div/div[2]/div[1]/div[2]/form/div/div/a/img\")\n",
    "calender_button.click()"
   ]
  },
  {
   "cell_type": "code",
   "execution_count": 67,
   "metadata": {},
   "outputs": [],
   "source": [
    "# clicking the calendar button\n",
    "for i in range(6):\n",
    "    down_button=driver.find_element_by_xpath(\"/html/body/div[2]/div[1]/div/div/span[2]\")\n",
    "    down_button.click()"
   ]
  },
  {
   "cell_type": "code",
   "execution_count": 68,
   "metadata": {},
   "outputs": [],
   "source": [
    "# clicking the calendar button\n",
    "for i in range(3):\n",
    "    right_button=driver.find_element_by_xpath(\"//span[@class='flatpickr-next-month']\")\n",
    "    right_button.click()"
   ]
  },
  {
   "cell_type": "code",
   "execution_count": 69,
   "metadata": {},
   "outputs": [],
   "source": [
    "# clicking March 1 2015 button\n",
    "march_button=driver.find_element_by_xpath(\"/html/body/div[2]/div[2]/div/div[2]/div/span[1]\")\n",
    "march_button.click()"
   ]
  },
  {
   "cell_type": "code",
   "execution_count": null,
   "metadata": {},
   "outputs": [],
   "source": [
    "# clicking submit button\n",
    "submit_button=driver.find_element_by_id(\"getArchive\")\n",
    "submit_button.click()"
   ]
  },
  {
   "cell_type": "code",
   "execution_count": null,
   "metadata": {},
   "outputs": [],
   "source": [
    "links=driver.find_elements_by_xpath('/html/body/main/div[3]/div/div/div/div/div/div/div/div/div/section/div/div/div[3]/div[1]/div[*]/ul/li[*]/a' and '/html/body/main/div[3]/div/div/div/div/div/div/div/div/div/section/div/div/div[3]/div[1]/div[*]/ul/li/a')      "
   ]
  },
  {
   "cell_type": "code",
   "execution_count": null,
   "metadata": {},
   "outputs": [],
   "source": [
    "links_list = []\n",
    "for link in links:\n",
    "    print(link.get_attribute('href'))\n",
    "    # Fetch and store the links\n",
    "    links_list.append(link.get_attribute('href'))\n"
   ]
  },
  {
   "cell_type": "code",
   "execution_count": null,
   "metadata": {},
   "outputs": [],
   "source": [
    "# Loop through all the links and launch one by one\n",
    "for lin in links_list:\n",
    "     \n",
    "    delay = 5\n",
    "    \n",
    "    try:\n",
    "        driver.get(lin)\n",
    "        WebDriverWait(driver, delay).until(EC.presence_of_element_located((By.CLASS_NAME, 'group sanspro-reg archives-note')))\n",
    "      \n",
    "    except TimeoutException as e:\n",
    "        print(\"Exception Raised: \", e)  \n",
    "        \n",
    "    Date_list=[]\n",
    "    Author_list=[]\n",
    "    Vertical_list=[]\n",
    "    Headline_list=[]\n",
    "    Description_list=[]\n",
    "    \n",
    "    dates=driver.find_elements_by_xpath('/html/body/main/div[4]/div/div/div[3]/div[2]/ul/li[*]')\n",
    "    authors=driver.find_elements_by_xpath('/html/body/main/div[4]/div/div/div[3]/div[2]/span' )\n",
    "    vertices=driver.find_elements_by_xpath('/html/body/main/div[1]/div/div/ul/li[*]/a')\n",
    "    headlines=driver.find_elements_by_xpath('/html/body/main/div[1]/div/div/ul/li[*]')\n",
    "    descriptions=driver.find_elements_by_xpath('/html/body/main/div[4]/div/div/div[4]/div/div[2]/div[2]/div[2]/div/div/p[1]')\n",
    "   \n",
    "    \n",
    "    for d in dates:\n",
    "        if d.text is None :\n",
    "            Date_list.append(\"--\") \n",
    "        else:\n",
    "            date=d.text\n",
    "            Date_list.append(date)\n",
    "    for a in authors:\n",
    "        if a.text is None :\n",
    "            Author_list.append(\"--\") \n",
    "        else:\n",
    "            author=a.text\n",
    "            Author_list.append(author)\n",
    "    for v in vertices:\n",
    "        if v.text is None :\n",
    "            Vertical_list.append(\"--\") \n",
    "        else:\n",
    "            verticle=v.text\n",
    "            Vertical_list.append(verticle)\n",
    "    for h in headlines:\n",
    "        if h.text is None :\n",
    "            Headline_list.append(\"--\") \n",
    "        else:\n",
    "            headline=h.text\n",
    "            Headline_list.append(headline)\n",
    "    for s in descriptions:\n",
    "        if s.text is None :\n",
    "            Description_list.append(\"--\") \n",
    "        else:\n",
    "            description=s.text\n",
    "            Description_list.append(description)\n",
    "   \n",
    "\n",
    "\n",
    "March_2015_News = df=pd.DataFrame({'Date':Date_list,\n",
    "                                    'Author':Author_list,\n",
    "                                    'Verticle':Vertical_list,\n",
    "                                    'Headline':Headline_list,\n",
    "                                    'Description':Description_list})\n",
    "print(March_2015_News)\n"
   ]
  },
  {
   "cell_type": "code",
   "execution_count": null,
   "metadata": {},
   "outputs": [],
   "source": [
    "import time\n",
    "# Loop over the rest of the dates.\n",
    "for i in range(2,33):\n",
    "    \n",
    "    # clicking the calendar button\n",
    "    calender_button=driver.find_element_by_xpath(\"/html/body/main/div[3]/div/div/div/div/div/div/div/div/div/section/div/div/div[2]/div[1]/div[2]/form/div/div/a/img\")\n",
    "    calender_button.click()\n",
    "    \n",
    "        \n",
    "    # And I get the link to the element \n",
    "    date_button = driver.find_elements_by_class_name(\"flatpickr-day \")[i]\n",
    "    # I will click on the day button.\n",
    "    if date_button.get_attribute('class') == \"flatpickr-day \":\n",
    "        date_button.click()\n",
    "        # clicking submit button\n",
    "        submit_button=driver.find_element_by_id(\"getArchive\")\n",
    "        submit_button.click()\n",
    "        # Wait for the page to update \n",
    "        time.sleep(5)"
   ]
  },
  {
   "cell_type": "code",
   "execution_count": null,
   "metadata": {},
   "outputs": [],
   "source": []
  },
  {
   "cell_type": "code",
   "execution_count": null,
   "metadata": {},
   "outputs": [],
   "source": []
  }
 ],
 "metadata": {
  "kernelspec": {
   "display_name": "Python 3",
   "language": "python",
   "name": "python3"
  },
  "language_info": {
   "codemirror_mode": {
    "name": "ipython",
    "version": 3
   },
   "file_extension": ".py",
   "mimetype": "text/x-python",
   "name": "python",
   "nbconvert_exporter": "python",
   "pygments_lexer": "ipython3",
   "version": "3.7.6"
  }
 },
 "nbformat": 4,
 "nbformat_minor": 4
}
