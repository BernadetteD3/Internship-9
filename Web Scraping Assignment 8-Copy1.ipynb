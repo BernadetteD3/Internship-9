{
 "cells": [
  {
   "cell_type": "markdown",
   "metadata": {},
   "source": [
    "# Web Scraping Assignment 8"
   ]
  },
  {
   "cell_type": "code",
   "execution_count": 165,
   "metadata": {},
   "outputs": [],
   "source": [
    "# Importing Libraries\n",
    "import pandas as pd\n",
    "from bs4 import BeautifulSoup\n",
    "import requests\n",
    "import selenium\n",
    "from selenium import webdriver\n",
    "import time\n",
    "from selenium.webdriver.common.keys import Keys"
   ]
  },
  {
   "cell_type": "code",
   "execution_count": 166,
   "metadata": {},
   "outputs": [],
   "source": [
    "driver = webdriver.Firefox(executable_path='C:\\GeckoDriver\\geckodriver.exe')"
   ]
  },
  {
   "cell_type": "markdown",
   "metadata": {},
   "source": [
    "You have to handle commonly occurring EXCEPTIONS by using exception handling programing. To get\n",
    "information about selenium Exceptions. You may visit following links:\n",
    "1. https://selenium-python.readthedocs.io/api.html\n",
    "2. https://www.guru99.com/exception-handling-selenium.html\n",
    "3. https://stackoverflow.com/questions/38022658/selenium-python-handling-no-such-elementexception/38023345\n"
   ]
  },
  {
   "cell_type": "markdown",
   "metadata": {},
   "source": [
    "Question 1"
   ]
  },
  {
   "cell_type": "markdown",
   "metadata": {},
   "source": [
    "Scrape the details of most viewed videos on YouTube from Wikipedia:\n",
    "Url = https://en.wikipedia.org/wiki/List_of_most-viewed_YouTube_videos/\n",
    "You need to find following details:\n",
    "A) Rank\n",
    "B) Name\n",
    "C) Artist\n",
    "D) Upload date\n",
    "E) Views"
   ]
  },
  {
   "cell_type": "code",
   "execution_count": 167,
   "metadata": {},
   "outputs": [],
   "source": [
    "url =\"https://en.wikipedia.org/wiki/List_of_most-viewed_YouTube_videos\""
   ]
  },
  {
   "cell_type": "code",
   "execution_count": 168,
   "metadata": {},
   "outputs": [],
   "source": [
    "# Open the webpage through the web driver\n",
    "driver.get(url)"
   ]
  },
  {
   "cell_type": "code",
   "execution_count": 169,
   "metadata": {},
   "outputs": [],
   "source": [
    "rank_list=[]\n",
    "name_list=[]\n",
    "artist_list=[]\n",
    "upload_list=[]\n",
    "view_list=[]"
   ]
  },
  {
   "cell_type": "code",
   "execution_count": 170,
   "metadata": {},
   "outputs": [
    {
     "data": {
      "text/plain": [
       "[<selenium.webdriver.firefox.webelement.FirefoxWebElement (session=\"031d6609-2292-48a5-8a1a-731f434181bb\", element=\"e3a04874-f07b-4ea9-be88-0902c347099a\")>,\n",
       " <selenium.webdriver.firefox.webelement.FirefoxWebElement (session=\"031d6609-2292-48a5-8a1a-731f434181bb\", element=\"23e32a98-99b6-47e6-9f50-06df8e331752\")>,\n",
       " <selenium.webdriver.firefox.webelement.FirefoxWebElement (session=\"031d6609-2292-48a5-8a1a-731f434181bb\", element=\"0340ace9-77ce-4a57-acc1-bbfacb8156ff\")>,\n",
       " <selenium.webdriver.firefox.webelement.FirefoxWebElement (session=\"031d6609-2292-48a5-8a1a-731f434181bb\", element=\"5e7583c6-b469-406a-b522-c763f9b955db\")>,\n",
       " <selenium.webdriver.firefox.webelement.FirefoxWebElement (session=\"031d6609-2292-48a5-8a1a-731f434181bb\", element=\"be6cc10c-257d-4ae1-b576-2f31ce80f6cc\")>,\n",
       " <selenium.webdriver.firefox.webelement.FirefoxWebElement (session=\"031d6609-2292-48a5-8a1a-731f434181bb\", element=\"097d22c0-04ef-477b-bbfb-5dc02070ddbc\")>,\n",
       " <selenium.webdriver.firefox.webelement.FirefoxWebElement (session=\"031d6609-2292-48a5-8a1a-731f434181bb\", element=\"5cfb7737-d6b8-447d-bc3b-c5c921142f9d\")>,\n",
       " <selenium.webdriver.firefox.webelement.FirefoxWebElement (session=\"031d6609-2292-48a5-8a1a-731f434181bb\", element=\"f97bc812-5153-4bb7-92d6-92d45eef79de\")>,\n",
       " <selenium.webdriver.firefox.webelement.FirefoxWebElement (session=\"031d6609-2292-48a5-8a1a-731f434181bb\", element=\"15740330-dab1-4380-a5d7-2e0e200cb374\")>,\n",
       " <selenium.webdriver.firefox.webelement.FirefoxWebElement (session=\"031d6609-2292-48a5-8a1a-731f434181bb\", element=\"0ca4c33b-606a-45b4-860e-740ee93f34f6\")>,\n",
       " <selenium.webdriver.firefox.webelement.FirefoxWebElement (session=\"031d6609-2292-48a5-8a1a-731f434181bb\", element=\"936b4c11-8c3e-4590-ad9d-a95bed7fe5df\")>,\n",
       " <selenium.webdriver.firefox.webelement.FirefoxWebElement (session=\"031d6609-2292-48a5-8a1a-731f434181bb\", element=\"3b686d3e-cb75-4f96-a750-0cddc1d35b0f\")>,\n",
       " <selenium.webdriver.firefox.webelement.FirefoxWebElement (session=\"031d6609-2292-48a5-8a1a-731f434181bb\", element=\"e140d8f6-779d-4030-8293-6ff59b6a811a\")>,\n",
       " <selenium.webdriver.firefox.webelement.FirefoxWebElement (session=\"031d6609-2292-48a5-8a1a-731f434181bb\", element=\"837d0b6d-adb6-44c7-bac8-c1cce2b3e9f9\")>,\n",
       " <selenium.webdriver.firefox.webelement.FirefoxWebElement (session=\"031d6609-2292-48a5-8a1a-731f434181bb\", element=\"8be89a33-983c-413f-b62a-9fc461e40e2a\")>,\n",
       " <selenium.webdriver.firefox.webelement.FirefoxWebElement (session=\"031d6609-2292-48a5-8a1a-731f434181bb\", element=\"36a16fa5-6192-420c-ae3c-a058adba2729\")>,\n",
       " <selenium.webdriver.firefox.webelement.FirefoxWebElement (session=\"031d6609-2292-48a5-8a1a-731f434181bb\", element=\"e81563cc-3ac5-4448-8249-d789aa3daef7\")>,\n",
       " <selenium.webdriver.firefox.webelement.FirefoxWebElement (session=\"031d6609-2292-48a5-8a1a-731f434181bb\", element=\"2671c42a-1f50-4053-bd97-4062a0f0cbeb\")>,\n",
       " <selenium.webdriver.firefox.webelement.FirefoxWebElement (session=\"031d6609-2292-48a5-8a1a-731f434181bb\", element=\"29228965-0017-4b88-9048-fe098bf5df29\")>,\n",
       " <selenium.webdriver.firefox.webelement.FirefoxWebElement (session=\"031d6609-2292-48a5-8a1a-731f434181bb\", element=\"f7b0324c-588a-4596-98b6-202628b24694\")>,\n",
       " <selenium.webdriver.firefox.webelement.FirefoxWebElement (session=\"031d6609-2292-48a5-8a1a-731f434181bb\", element=\"d60118dc-280b-4f31-ae8a-0bdc81559815\")>,\n",
       " <selenium.webdriver.firefox.webelement.FirefoxWebElement (session=\"031d6609-2292-48a5-8a1a-731f434181bb\", element=\"23b862c1-41fc-45a0-879b-5052e047b017\")>,\n",
       " <selenium.webdriver.firefox.webelement.FirefoxWebElement (session=\"031d6609-2292-48a5-8a1a-731f434181bb\", element=\"6b6b2887-0eec-4985-8cbd-94f2c18f72c0\")>,\n",
       " <selenium.webdriver.firefox.webelement.FirefoxWebElement (session=\"031d6609-2292-48a5-8a1a-731f434181bb\", element=\"f134b0fc-bc4c-467f-9e93-9f9bdbeaa420\")>,\n",
       " <selenium.webdriver.firefox.webelement.FirefoxWebElement (session=\"031d6609-2292-48a5-8a1a-731f434181bb\", element=\"a81b0fad-c389-4661-8494-b6a0a851a8ab\")>,\n",
       " <selenium.webdriver.firefox.webelement.FirefoxWebElement (session=\"031d6609-2292-48a5-8a1a-731f434181bb\", element=\"74c77598-7b2f-47f5-818c-e088040ed6f6\")>,\n",
       " <selenium.webdriver.firefox.webelement.FirefoxWebElement (session=\"031d6609-2292-48a5-8a1a-731f434181bb\", element=\"8ccef06b-700b-4857-8dd9-6f05ef9cd709\")>,\n",
       " <selenium.webdriver.firefox.webelement.FirefoxWebElement (session=\"031d6609-2292-48a5-8a1a-731f434181bb\", element=\"25af3a94-b613-4c10-bb02-e5c68bab87e6\")>,\n",
       " <selenium.webdriver.firefox.webelement.FirefoxWebElement (session=\"031d6609-2292-48a5-8a1a-731f434181bb\", element=\"27c36532-945b-471b-acc4-020da6b0e081\")>,\n",
       " <selenium.webdriver.firefox.webelement.FirefoxWebElement (session=\"031d6609-2292-48a5-8a1a-731f434181bb\", element=\"b25e1a81-e989-432a-b304-d5aea608a8ea\")>]"
      ]
     },
     "execution_count": 170,
     "metadata": {},
     "output_type": "execute_result"
    }
   ],
   "source": [
    "# Extract all thags with job titles\n",
    "# Xpath=//tagname[@Attibute='Value']\n",
    "ranks=driver.find_elements_by_xpath(\"/html/body/div[3]/div[3]/div[5]/div[1]/table[1]/tbody/tr[*]/td[1]\")\n",
    "ranks[0:30]"
   ]
  },
  {
   "cell_type": "code",
   "execution_count": 171,
   "metadata": {},
   "outputs": [
    {
     "data": {
      "text/plain": [
       "['1.',\n",
       " '2.',\n",
       " '3.',\n",
       " '4.',\n",
       " '5.',\n",
       " '6.',\n",
       " '7.',\n",
       " '8.',\n",
       " '9.',\n",
       " '10.',\n",
       " '11.',\n",
       " '12.',\n",
       " '13.',\n",
       " '14.',\n",
       " '15.',\n",
       " '16.',\n",
       " '17.',\n",
       " '18.',\n",
       " '19.',\n",
       " '20.',\n",
       " '21.',\n",
       " '22.',\n",
       " '23.',\n",
       " '24.',\n",
       " '25.',\n",
       " '26.',\n",
       " '27.',\n",
       " '28.',\n",
       " '29.',\n",
       " '30.']"
      ]
     },
     "execution_count": 171,
     "metadata": {},
     "output_type": "execute_result"
    }
   ],
   "source": [
    "# Run a loopn to iterate over the tags to extract the text inside them\n",
    "for i in ranks:\n",
    "    rank=i.text\n",
    "    rank_list.append(rank)\n",
    "rank_list[0:30]"
   ]
  },
  {
   "cell_type": "code",
   "execution_count": 172,
   "metadata": {},
   "outputs": [
    {
     "data": {
      "text/plain": [
       "[<selenium.webdriver.firefox.webelement.FirefoxWebElement (session=\"031d6609-2292-48a5-8a1a-731f434181bb\", element=\"045ded7a-46b1-4107-962f-9b6aa56ec94e\")>,\n",
       " <selenium.webdriver.firefox.webelement.FirefoxWebElement (session=\"031d6609-2292-48a5-8a1a-731f434181bb\", element=\"e49abe69-2065-435f-8a82-628b810e862c\")>,\n",
       " <selenium.webdriver.firefox.webelement.FirefoxWebElement (session=\"031d6609-2292-48a5-8a1a-731f434181bb\", element=\"447336c9-c8c5-41a7-9bad-85312d9b9c7f\")>,\n",
       " <selenium.webdriver.firefox.webelement.FirefoxWebElement (session=\"031d6609-2292-48a5-8a1a-731f434181bb\", element=\"deced110-d4c8-4f72-ab8f-822cf40a7021\")>,\n",
       " <selenium.webdriver.firefox.webelement.FirefoxWebElement (session=\"031d6609-2292-48a5-8a1a-731f434181bb\", element=\"93dd626e-7445-43df-8eee-d0e311a640c9\")>,\n",
       " <selenium.webdriver.firefox.webelement.FirefoxWebElement (session=\"031d6609-2292-48a5-8a1a-731f434181bb\", element=\"6502644d-ce75-4095-b698-b6197762b0b4\")>,\n",
       " <selenium.webdriver.firefox.webelement.FirefoxWebElement (session=\"031d6609-2292-48a5-8a1a-731f434181bb\", element=\"9293769e-77e1-4d82-91f3-8619e1d7ec8d\")>,\n",
       " <selenium.webdriver.firefox.webelement.FirefoxWebElement (session=\"031d6609-2292-48a5-8a1a-731f434181bb\", element=\"ade22aaf-534e-4316-8a12-2ef25715e3a1\")>,\n",
       " <selenium.webdriver.firefox.webelement.FirefoxWebElement (session=\"031d6609-2292-48a5-8a1a-731f434181bb\", element=\"47b0e6ab-90e3-4895-b4df-47f0f21f956b\")>,\n",
       " <selenium.webdriver.firefox.webelement.FirefoxWebElement (session=\"031d6609-2292-48a5-8a1a-731f434181bb\", element=\"e7f1cd17-2e9d-4414-b309-8aea97ee5001\")>,\n",
       " <selenium.webdriver.firefox.webelement.FirefoxWebElement (session=\"031d6609-2292-48a5-8a1a-731f434181bb\", element=\"5ba36f00-af16-44dc-b0dc-e8bb5ecb0512\")>,\n",
       " <selenium.webdriver.firefox.webelement.FirefoxWebElement (session=\"031d6609-2292-48a5-8a1a-731f434181bb\", element=\"5fc44386-e393-4502-a62f-6c30e166a69c\")>,\n",
       " <selenium.webdriver.firefox.webelement.FirefoxWebElement (session=\"031d6609-2292-48a5-8a1a-731f434181bb\", element=\"881340bd-22f6-4a29-bf6a-d8c3d80b3ee6\")>,\n",
       " <selenium.webdriver.firefox.webelement.FirefoxWebElement (session=\"031d6609-2292-48a5-8a1a-731f434181bb\", element=\"c570e621-beb0-4208-8b97-85374fdfef6b\")>,\n",
       " <selenium.webdriver.firefox.webelement.FirefoxWebElement (session=\"031d6609-2292-48a5-8a1a-731f434181bb\", element=\"3a658a80-ae69-4d98-9f75-d01d216544f2\")>,\n",
       " <selenium.webdriver.firefox.webelement.FirefoxWebElement (session=\"031d6609-2292-48a5-8a1a-731f434181bb\", element=\"25eff1e6-fa3a-418c-9e94-c48e87110e0f\")>,\n",
       " <selenium.webdriver.firefox.webelement.FirefoxWebElement (session=\"031d6609-2292-48a5-8a1a-731f434181bb\", element=\"b13925b1-c387-49c0-a857-207050e8916f\")>,\n",
       " <selenium.webdriver.firefox.webelement.FirefoxWebElement (session=\"031d6609-2292-48a5-8a1a-731f434181bb\", element=\"d3a9be7c-a876-4e51-af4c-0ba150ca2fc3\")>,\n",
       " <selenium.webdriver.firefox.webelement.FirefoxWebElement (session=\"031d6609-2292-48a5-8a1a-731f434181bb\", element=\"116b7017-8d5a-4e09-a92c-d638653cfded\")>,\n",
       " <selenium.webdriver.firefox.webelement.FirefoxWebElement (session=\"031d6609-2292-48a5-8a1a-731f434181bb\", element=\"3a6b6cef-f458-4e83-8128-5cce67a1a6e6\")>,\n",
       " <selenium.webdriver.firefox.webelement.FirefoxWebElement (session=\"031d6609-2292-48a5-8a1a-731f434181bb\", element=\"5dbd5b4a-d0a9-4d8a-91e1-e5555cb07048\")>,\n",
       " <selenium.webdriver.firefox.webelement.FirefoxWebElement (session=\"031d6609-2292-48a5-8a1a-731f434181bb\", element=\"bf236d56-d4e8-443c-86bf-72097813bd94\")>,\n",
       " <selenium.webdriver.firefox.webelement.FirefoxWebElement (session=\"031d6609-2292-48a5-8a1a-731f434181bb\", element=\"d1f7531b-d1d3-4b9f-92f0-842f1142b51c\")>,\n",
       " <selenium.webdriver.firefox.webelement.FirefoxWebElement (session=\"031d6609-2292-48a5-8a1a-731f434181bb\", element=\"606e48e5-07de-4170-bdc4-d21a65c637ff\")>,\n",
       " <selenium.webdriver.firefox.webelement.FirefoxWebElement (session=\"031d6609-2292-48a5-8a1a-731f434181bb\", element=\"74ea546c-5ba5-4b25-b20b-be6d8432882a\")>,\n",
       " <selenium.webdriver.firefox.webelement.FirefoxWebElement (session=\"031d6609-2292-48a5-8a1a-731f434181bb\", element=\"823adfb3-5f2d-48cf-9ed9-aa34f5d5bc3c\")>,\n",
       " <selenium.webdriver.firefox.webelement.FirefoxWebElement (session=\"031d6609-2292-48a5-8a1a-731f434181bb\", element=\"279f7b3b-c00d-4428-acb4-39f6aa90e18e\")>,\n",
       " <selenium.webdriver.firefox.webelement.FirefoxWebElement (session=\"031d6609-2292-48a5-8a1a-731f434181bb\", element=\"afc580e6-abcf-4f1b-b475-b94919d30ce7\")>,\n",
       " <selenium.webdriver.firefox.webelement.FirefoxWebElement (session=\"031d6609-2292-48a5-8a1a-731f434181bb\", element=\"d5d935c1-86df-4a1d-9924-064c122cdc9c\")>,\n",
       " <selenium.webdriver.firefox.webelement.FirefoxWebElement (session=\"031d6609-2292-48a5-8a1a-731f434181bb\", element=\"1a32d1b7-e885-4af2-8d10-264fb180d89b\")>]"
      ]
     },
     "execution_count": 172,
     "metadata": {},
     "output_type": "execute_result"
    }
   ],
   "source": [
    "# Extract all thags with job titles\n",
    "# Xpath=//tagname[@Attibute='Value']\n",
    "names=driver.find_elements_by_xpath('/html/body/div[3]/div[3]/div[5]/div[1]/table[1]/tbody/tr[*]/td[2]' )\n",
    "names"
   ]
  },
  {
   "cell_type": "code",
   "execution_count": 173,
   "metadata": {},
   "outputs": [
    {
     "data": {
      "text/plain": [
       "['\"Baby Shark Dance\"[28]',\n",
       " '\"Despacito\"[30]',\n",
       " '\"Shape of You\"[31]',\n",
       " '\"See You Again\"[32]',\n",
       " '\"Johny Johny Yes Papa\"[35]',\n",
       " '\"Masha and the Bear – Recipe for Disaster\"[36]',\n",
       " '\"Uptown Funk\"[37]',\n",
       " '\"Gangnam Style\"[38]',\n",
       " '\"Learning Colors – Colorful Eggs on a Farm\"[40]',\n",
       " '\"Bath Song\"[41]',\n",
       " '\"Sorry\"[42]',\n",
       " '\"Sugar\"[43]',\n",
       " '\"Phonics Song with Two Words\"[44]',\n",
       " '\"Roar\"[45]',\n",
       " '\"Thinking Out Loud\"[46]',\n",
       " '\"Counting Stars\"[47]',\n",
       " '\"Shake It Off\"[48]',\n",
       " '\"Dame Tu Cosita\"[49]',\n",
       " '\"Bailando\"[50]',\n",
       " '\"Lean On\"[51]',\n",
       " '\"Faded\"[52]',\n",
       " '\"Dark Horse\"[53]',\n",
       " '\"Girls Like You\"[54]',\n",
       " '\"Let Her Go\"[55]',\n",
       " '\"Mi Gente\"[56]',\n",
       " '\"Hello\"[57]',\n",
       " '\"Blank Space\"[58]',\n",
       " '\"Waka Waka (This Time for Africa)\"[59]',\n",
       " '\"Perfect\"[60]',\n",
       " '\"Chantaje\"[61]']"
      ]
     },
     "execution_count": 173,
     "metadata": {},
     "output_type": "execute_result"
    }
   ],
   "source": [
    "# Run a loopn to iterate over the tags to extract the text inside them\n",
    "for i in names:\n",
    "    name=i.text\n",
    "    name_list.append(name.replace('[**]',' ')) # Attempt to remove the brackets withb numbers at the end of the name\n",
    "name_list[0:30]"
   ]
  },
  {
   "cell_type": "code",
   "execution_count": 174,
   "metadata": {},
   "outputs": [
    {
     "data": {
      "text/plain": [
       "[<selenium.webdriver.firefox.webelement.FirefoxWebElement (session=\"031d6609-2292-48a5-8a1a-731f434181bb\", element=\"5dce4809-e03a-49a9-8c74-42391d314cd9\")>,\n",
       " <selenium.webdriver.firefox.webelement.FirefoxWebElement (session=\"031d6609-2292-48a5-8a1a-731f434181bb\", element=\"b62d005e-c08c-4e17-a32f-75cfc3d765b1\")>,\n",
       " <selenium.webdriver.firefox.webelement.FirefoxWebElement (session=\"031d6609-2292-48a5-8a1a-731f434181bb\", element=\"b501692b-d888-431e-8272-de7404c9f26e\")>,\n",
       " <selenium.webdriver.firefox.webelement.FirefoxWebElement (session=\"031d6609-2292-48a5-8a1a-731f434181bb\", element=\"c8160571-3252-4a24-b67a-f0efb4831dac\")>,\n",
       " <selenium.webdriver.firefox.webelement.FirefoxWebElement (session=\"031d6609-2292-48a5-8a1a-731f434181bb\", element=\"e3ceb632-1bd8-4aed-b4c8-c1c26796579c\")>,\n",
       " <selenium.webdriver.firefox.webelement.FirefoxWebElement (session=\"031d6609-2292-48a5-8a1a-731f434181bb\", element=\"43ad419d-f005-466f-82d3-4e5e68945b8b\")>,\n",
       " <selenium.webdriver.firefox.webelement.FirefoxWebElement (session=\"031d6609-2292-48a5-8a1a-731f434181bb\", element=\"192d382b-b6fb-4679-a0b6-a5bd00465616\")>,\n",
       " <selenium.webdriver.firefox.webelement.FirefoxWebElement (session=\"031d6609-2292-48a5-8a1a-731f434181bb\", element=\"e0d15c22-5726-4dbc-bdb6-d78390e11d56\")>,\n",
       " <selenium.webdriver.firefox.webelement.FirefoxWebElement (session=\"031d6609-2292-48a5-8a1a-731f434181bb\", element=\"17ca7d62-be5e-4006-89ef-7b9d6050988f\")>,\n",
       " <selenium.webdriver.firefox.webelement.FirefoxWebElement (session=\"031d6609-2292-48a5-8a1a-731f434181bb\", element=\"f436fe89-663f-4485-b25e-cd290f917eea\")>,\n",
       " <selenium.webdriver.firefox.webelement.FirefoxWebElement (session=\"031d6609-2292-48a5-8a1a-731f434181bb\", element=\"49299fe4-e456-4fbd-aba9-07fedda20deb\")>,\n",
       " <selenium.webdriver.firefox.webelement.FirefoxWebElement (session=\"031d6609-2292-48a5-8a1a-731f434181bb\", element=\"5ec72030-8311-4bfb-a2f5-f4f5c38f5ab1\")>,\n",
       " <selenium.webdriver.firefox.webelement.FirefoxWebElement (session=\"031d6609-2292-48a5-8a1a-731f434181bb\", element=\"63f69981-fc78-4606-af9f-e83ee8962a06\")>,\n",
       " <selenium.webdriver.firefox.webelement.FirefoxWebElement (session=\"031d6609-2292-48a5-8a1a-731f434181bb\", element=\"a0f4b2f2-7970-488a-8c36-499461677d63\")>,\n",
       " <selenium.webdriver.firefox.webelement.FirefoxWebElement (session=\"031d6609-2292-48a5-8a1a-731f434181bb\", element=\"a926de42-8172-4df2-a1b9-4db0d9d0fac2\")>,\n",
       " <selenium.webdriver.firefox.webelement.FirefoxWebElement (session=\"031d6609-2292-48a5-8a1a-731f434181bb\", element=\"9e85bfd0-aefa-4c20-a9ff-36afb30a2994\")>,\n",
       " <selenium.webdriver.firefox.webelement.FirefoxWebElement (session=\"031d6609-2292-48a5-8a1a-731f434181bb\", element=\"c1832f1e-a2fd-4b7b-9776-4f3371cdb236\")>,\n",
       " <selenium.webdriver.firefox.webelement.FirefoxWebElement (session=\"031d6609-2292-48a5-8a1a-731f434181bb\", element=\"d1541fd3-407b-4aba-bdc2-4fdc7c9be9e5\")>,\n",
       " <selenium.webdriver.firefox.webelement.FirefoxWebElement (session=\"031d6609-2292-48a5-8a1a-731f434181bb\", element=\"c5517539-bd9b-4fc8-9612-8d0da6ea8d0d\")>,\n",
       " <selenium.webdriver.firefox.webelement.FirefoxWebElement (session=\"031d6609-2292-48a5-8a1a-731f434181bb\", element=\"1c10eec1-927b-4829-8c0e-c5928b42ac07\")>,\n",
       " <selenium.webdriver.firefox.webelement.FirefoxWebElement (session=\"031d6609-2292-48a5-8a1a-731f434181bb\", element=\"fea40ea3-6e4a-46a3-85c2-90f40cd5907e\")>,\n",
       " <selenium.webdriver.firefox.webelement.FirefoxWebElement (session=\"031d6609-2292-48a5-8a1a-731f434181bb\", element=\"8bf7fa99-10df-4ee9-8703-80c5aea236f0\")>,\n",
       " <selenium.webdriver.firefox.webelement.FirefoxWebElement (session=\"031d6609-2292-48a5-8a1a-731f434181bb\", element=\"b59b3718-a964-4f8d-ad75-67714e41ffd9\")>,\n",
       " <selenium.webdriver.firefox.webelement.FirefoxWebElement (session=\"031d6609-2292-48a5-8a1a-731f434181bb\", element=\"e47d2551-ff5c-4d79-8641-3179cd57a210\")>,\n",
       " <selenium.webdriver.firefox.webelement.FirefoxWebElement (session=\"031d6609-2292-48a5-8a1a-731f434181bb\", element=\"3a2b276a-cbfc-4cd3-9e3c-06557b688c45\")>,\n",
       " <selenium.webdriver.firefox.webelement.FirefoxWebElement (session=\"031d6609-2292-48a5-8a1a-731f434181bb\", element=\"8445d6c7-c84f-40ea-aa19-ea4e49fc2ce2\")>,\n",
       " <selenium.webdriver.firefox.webelement.FirefoxWebElement (session=\"031d6609-2292-48a5-8a1a-731f434181bb\", element=\"7b5d8739-c31a-4c95-b47c-ca7b7008b5d3\")>,\n",
       " <selenium.webdriver.firefox.webelement.FirefoxWebElement (session=\"031d6609-2292-48a5-8a1a-731f434181bb\", element=\"77526ce7-1b6b-4cd3-9014-15143de14c08\")>,\n",
       " <selenium.webdriver.firefox.webelement.FirefoxWebElement (session=\"031d6609-2292-48a5-8a1a-731f434181bb\", element=\"81a4a83d-2dc0-497a-a6df-7ee345f480a7\")>,\n",
       " <selenium.webdriver.firefox.webelement.FirefoxWebElement (session=\"031d6609-2292-48a5-8a1a-731f434181bb\", element=\"4aff689a-fa65-4163-af81-facfd4693527\")>]"
      ]
     },
     "execution_count": 174,
     "metadata": {},
     "output_type": "execute_result"
    }
   ],
   "source": [
    "# Extract all thags with job titles\n",
    "# Xpath=//tagname[@Attibute='Value']\n",
    "artists=driver.find_elements_by_xpath(\"/html/body/div[3]/div[3]/div[5]/div[1]/table[1]/tbody/tr[*]/td[3]\")\n",
    "artists[0:30]"
   ]
  },
  {
   "cell_type": "code",
   "execution_count": 175,
   "metadata": {},
   "outputs": [
    {
     "data": {
      "text/plain": [
       "[\"Pinkfong Kids' Songs & Stories\",\n",
       " 'Luis Fonsi featuring Daddy Yankee',\n",
       " 'Ed Sheeran',\n",
       " 'Wiz Khalifa featuring Charlie Puth',\n",
       " 'LooLoo Kids',\n",
       " 'Get Movies',\n",
       " 'Mark Ronson featuring Bruno Mars',\n",
       " 'Psy',\n",
       " 'Miroshka TV',\n",
       " 'Cocomelon – Nursery Rhymes',\n",
       " 'Justin Bieber',\n",
       " 'Maroon 5',\n",
       " 'ChuChu TV',\n",
       " 'Katy Perry',\n",
       " 'Ed Sheeran',\n",
       " 'OneRepublic',\n",
       " 'Taylor Swift',\n",
       " 'El Chombo featuring Cutty Ranks',\n",
       " 'Enrique Iglesias featuring Descemer Bueno and Gente De Zona',\n",
       " 'Major Lazer and DJ Snake featuring MØ',\n",
       " 'Alan Walker',\n",
       " 'Katy Perry featuring Juicy J',\n",
       " 'Maroon 5 featuring Cardi B',\n",
       " 'Passenger',\n",
       " 'J Balvin and Willy William',\n",
       " 'Adele',\n",
       " 'Taylor Swift',\n",
       " 'Shakira featuring Freshlyground',\n",
       " 'Ed Sheeran',\n",
       " 'Shakira featuring Maluma']"
      ]
     },
     "execution_count": 175,
     "metadata": {},
     "output_type": "execute_result"
    }
   ],
   "source": [
    "# Run a loopn to iterate over the tags to extract the text inside them\n",
    "for i in artists:\n",
    "    artist=i.text\n",
    "    artist_list.append(artist)\n",
    "artist_list[0:30]"
   ]
  },
  {
   "cell_type": "code",
   "execution_count": 176,
   "metadata": {},
   "outputs": [
    {
     "data": {
      "text/plain": [
       "[<selenium.webdriver.firefox.webelement.FirefoxWebElement (session=\"031d6609-2292-48a5-8a1a-731f434181bb\", element=\"4ec6a2fb-cc1f-41d1-9acf-0504ccc3e4a2\")>,\n",
       " <selenium.webdriver.firefox.webelement.FirefoxWebElement (session=\"031d6609-2292-48a5-8a1a-731f434181bb\", element=\"dc160744-7a28-463a-8f21-5eb46648b342\")>,\n",
       " <selenium.webdriver.firefox.webelement.FirefoxWebElement (session=\"031d6609-2292-48a5-8a1a-731f434181bb\", element=\"5c0e29ab-d819-40c2-824d-efa027baa41f\")>,\n",
       " <selenium.webdriver.firefox.webelement.FirefoxWebElement (session=\"031d6609-2292-48a5-8a1a-731f434181bb\", element=\"ab2e2225-3851-41fa-a7f8-17e93244f3c5\")>,\n",
       " <selenium.webdriver.firefox.webelement.FirefoxWebElement (session=\"031d6609-2292-48a5-8a1a-731f434181bb\", element=\"a19fadf2-9ec6-4127-84c9-8a539abbeaf7\")>,\n",
       " <selenium.webdriver.firefox.webelement.FirefoxWebElement (session=\"031d6609-2292-48a5-8a1a-731f434181bb\", element=\"54d06624-89c8-416d-8e76-77b05290618c\")>,\n",
       " <selenium.webdriver.firefox.webelement.FirefoxWebElement (session=\"031d6609-2292-48a5-8a1a-731f434181bb\", element=\"96449da7-ec2c-47dc-b6c3-79d610489a79\")>,\n",
       " <selenium.webdriver.firefox.webelement.FirefoxWebElement (session=\"031d6609-2292-48a5-8a1a-731f434181bb\", element=\"58bcd79f-9faf-480a-9d07-8d96fb0a0d25\")>,\n",
       " <selenium.webdriver.firefox.webelement.FirefoxWebElement (session=\"031d6609-2292-48a5-8a1a-731f434181bb\", element=\"779c01d4-73b4-404c-b3bf-7390f0d771ec\")>,\n",
       " <selenium.webdriver.firefox.webelement.FirefoxWebElement (session=\"031d6609-2292-48a5-8a1a-731f434181bb\", element=\"58e24efe-b9d6-4adc-b70b-0c714b7aac40\")>,\n",
       " <selenium.webdriver.firefox.webelement.FirefoxWebElement (session=\"031d6609-2292-48a5-8a1a-731f434181bb\", element=\"a62ed0cb-df82-4018-a25d-9196ab7cf96f\")>,\n",
       " <selenium.webdriver.firefox.webelement.FirefoxWebElement (session=\"031d6609-2292-48a5-8a1a-731f434181bb\", element=\"a0e11208-4f89-4faf-9e12-3b34518fff5f\")>,\n",
       " <selenium.webdriver.firefox.webelement.FirefoxWebElement (session=\"031d6609-2292-48a5-8a1a-731f434181bb\", element=\"baaa2a7b-46e8-450c-b583-26cbe557571a\")>,\n",
       " <selenium.webdriver.firefox.webelement.FirefoxWebElement (session=\"031d6609-2292-48a5-8a1a-731f434181bb\", element=\"af87df7f-179e-47db-9a0f-aeae357e6db5\")>,\n",
       " <selenium.webdriver.firefox.webelement.FirefoxWebElement (session=\"031d6609-2292-48a5-8a1a-731f434181bb\", element=\"5c297d15-c5bb-4886-ad1e-31793e4d354b\")>,\n",
       " <selenium.webdriver.firefox.webelement.FirefoxWebElement (session=\"031d6609-2292-48a5-8a1a-731f434181bb\", element=\"b836aea7-9f84-46c0-8540-a3343ef31342\")>,\n",
       " <selenium.webdriver.firefox.webelement.FirefoxWebElement (session=\"031d6609-2292-48a5-8a1a-731f434181bb\", element=\"c4e5f1ce-1821-46d3-b2c6-c2fbc1fe9467\")>,\n",
       " <selenium.webdriver.firefox.webelement.FirefoxWebElement (session=\"031d6609-2292-48a5-8a1a-731f434181bb\", element=\"13f166e2-2d61-4972-bdd7-e8854cfef83b\")>,\n",
       " <selenium.webdriver.firefox.webelement.FirefoxWebElement (session=\"031d6609-2292-48a5-8a1a-731f434181bb\", element=\"35542a71-15b8-48ad-b546-98b57a0f208c\")>,\n",
       " <selenium.webdriver.firefox.webelement.FirefoxWebElement (session=\"031d6609-2292-48a5-8a1a-731f434181bb\", element=\"bf59385e-e4d3-4969-a209-5d0c6a8a078f\")>,\n",
       " <selenium.webdriver.firefox.webelement.FirefoxWebElement (session=\"031d6609-2292-48a5-8a1a-731f434181bb\", element=\"c7a5a8c5-27ae-454e-9824-5e9f723333a3\")>,\n",
       " <selenium.webdriver.firefox.webelement.FirefoxWebElement (session=\"031d6609-2292-48a5-8a1a-731f434181bb\", element=\"ea71fbea-1084-4024-9b60-855bbcf94c7d\")>,\n",
       " <selenium.webdriver.firefox.webelement.FirefoxWebElement (session=\"031d6609-2292-48a5-8a1a-731f434181bb\", element=\"0ef39424-30a6-460a-a270-529249f50456\")>,\n",
       " <selenium.webdriver.firefox.webelement.FirefoxWebElement (session=\"031d6609-2292-48a5-8a1a-731f434181bb\", element=\"f8d9f4a0-aa44-4623-b9a9-843ae37b7152\")>,\n",
       " <selenium.webdriver.firefox.webelement.FirefoxWebElement (session=\"031d6609-2292-48a5-8a1a-731f434181bb\", element=\"c2e9967a-dcbb-41d9-b55f-dbdd5c790154\")>,\n",
       " <selenium.webdriver.firefox.webelement.FirefoxWebElement (session=\"031d6609-2292-48a5-8a1a-731f434181bb\", element=\"83f068a1-ad01-4e28-bb23-7b5f909924e1\")>,\n",
       " <selenium.webdriver.firefox.webelement.FirefoxWebElement (session=\"031d6609-2292-48a5-8a1a-731f434181bb\", element=\"30d346c4-0f63-4632-862d-81efe9a716a4\")>,\n",
       " <selenium.webdriver.firefox.webelement.FirefoxWebElement (session=\"031d6609-2292-48a5-8a1a-731f434181bb\", element=\"d7b0f50e-2e05-46d2-92b6-244bd32bda90\")>,\n",
       " <selenium.webdriver.firefox.webelement.FirefoxWebElement (session=\"031d6609-2292-48a5-8a1a-731f434181bb\", element=\"749c3076-3a30-4093-a23d-e753774ce4d3\")>,\n",
       " <selenium.webdriver.firefox.webelement.FirefoxWebElement (session=\"031d6609-2292-48a5-8a1a-731f434181bb\", element=\"b1abce6b-c614-4954-a2d4-fdc00fbefcad\")>]"
      ]
     },
     "execution_count": 176,
     "metadata": {},
     "output_type": "execute_result"
    }
   ],
   "source": [
    "# Extract all thags with job titles\n",
    "# Xpath=//tagname[@Attibute='Value']\n",
    "uploads=driver.find_elements_by_xpath(\"/html/body/div[3]/div[3]/div[5]/div[1]/table[1]/tbody/tr[*]/td[5]\")\n",
    "uploads[0:30]"
   ]
  },
  {
   "cell_type": "code",
   "execution_count": 177,
   "metadata": {},
   "outputs": [
    {
     "data": {
      "text/plain": [
       "['June 17, 2016',\n",
       " 'January 12, 2017',\n",
       " 'January 30, 2017',\n",
       " 'April 6, 2015',\n",
       " 'October 8, 2016',\n",
       " 'January 31, 2012',\n",
       " 'November 19, 2014',\n",
       " 'July 15, 2012',\n",
       " 'February 27, 2018',\n",
       " 'May 2, 2018',\n",
       " 'October 22, 2015',\n",
       " 'January 14, 2015',\n",
       " 'March 6, 2014',\n",
       " 'September 5, 2013',\n",
       " 'October 7, 2014',\n",
       " 'May 31, 2013',\n",
       " 'August 18, 2014',\n",
       " 'April 5, 2018',\n",
       " 'April 11, 2014',\n",
       " 'March 22, 2015',\n",
       " 'December 3, 2015',\n",
       " 'February 20, 2014',\n",
       " 'May 31, 2018',\n",
       " 'July 25, 2012',\n",
       " 'June 29, 2017',\n",
       " 'October 22, 2015',\n",
       " 'November 10, 2014',\n",
       " 'June 4, 2010',\n",
       " 'November 9, 2017',\n",
       " 'November 18, 2016']"
      ]
     },
     "execution_count": 177,
     "metadata": {},
     "output_type": "execute_result"
    }
   ],
   "source": [
    "# Run a loopn to iterate over the tags to extract the text inside them\n",
    "for i in uploads:\n",
    "    upload=i.text\n",
    "    upload_list.append(upload)\n",
    "upload_list[0:30]"
   ]
  },
  {
   "cell_type": "code",
   "execution_count": 178,
   "metadata": {
    "scrolled": true
   },
   "outputs": [
    {
     "data": {
      "text/plain": [
       "[<selenium.webdriver.firefox.webelement.FirefoxWebElement (session=\"031d6609-2292-48a5-8a1a-731f434181bb\", element=\"6d0a1d23-baf4-4b93-92a2-963e09d536da\")>,\n",
       " <selenium.webdriver.firefox.webelement.FirefoxWebElement (session=\"031d6609-2292-48a5-8a1a-731f434181bb\", element=\"d7f159cc-161b-468f-af19-052f30f8d413\")>,\n",
       " <selenium.webdriver.firefox.webelement.FirefoxWebElement (session=\"031d6609-2292-48a5-8a1a-731f434181bb\", element=\"d2ddba3b-278f-4d65-82b2-715fbcf781bb\")>,\n",
       " <selenium.webdriver.firefox.webelement.FirefoxWebElement (session=\"031d6609-2292-48a5-8a1a-731f434181bb\", element=\"c7ee34d5-bc1b-4a62-b476-fd62215edebf\")>,\n",
       " <selenium.webdriver.firefox.webelement.FirefoxWebElement (session=\"031d6609-2292-48a5-8a1a-731f434181bb\", element=\"71cdebb1-6720-488e-81d8-ed08a0971903\")>,\n",
       " <selenium.webdriver.firefox.webelement.FirefoxWebElement (session=\"031d6609-2292-48a5-8a1a-731f434181bb\", element=\"6044bd5f-8560-48c1-913a-4d33e49180d0\")>,\n",
       " <selenium.webdriver.firefox.webelement.FirefoxWebElement (session=\"031d6609-2292-48a5-8a1a-731f434181bb\", element=\"35503cb9-3e89-4eef-b230-dd46eb7bab1a\")>,\n",
       " <selenium.webdriver.firefox.webelement.FirefoxWebElement (session=\"031d6609-2292-48a5-8a1a-731f434181bb\", element=\"452bac51-e0de-4f62-92dc-efe34e02ae07\")>,\n",
       " <selenium.webdriver.firefox.webelement.FirefoxWebElement (session=\"031d6609-2292-48a5-8a1a-731f434181bb\", element=\"de0a14f8-eeb0-4684-94c8-8e31f9a7594b\")>,\n",
       " <selenium.webdriver.firefox.webelement.FirefoxWebElement (session=\"031d6609-2292-48a5-8a1a-731f434181bb\", element=\"114a0e4d-cedc-41bf-a0d2-4b4e12971c6e\")>,\n",
       " <selenium.webdriver.firefox.webelement.FirefoxWebElement (session=\"031d6609-2292-48a5-8a1a-731f434181bb\", element=\"bb5f9072-c03e-4a6d-abb9-7341f5277f4e\")>,\n",
       " <selenium.webdriver.firefox.webelement.FirefoxWebElement (session=\"031d6609-2292-48a5-8a1a-731f434181bb\", element=\"03217714-f22a-4a8e-ada0-2ac58a10e49a\")>,\n",
       " <selenium.webdriver.firefox.webelement.FirefoxWebElement (session=\"031d6609-2292-48a5-8a1a-731f434181bb\", element=\"58f365d3-a8f5-4bf8-8e91-7de9ad4928b3\")>,\n",
       " <selenium.webdriver.firefox.webelement.FirefoxWebElement (session=\"031d6609-2292-48a5-8a1a-731f434181bb\", element=\"c6520ec2-15a3-4064-8d20-1b695a7c6e2f\")>,\n",
       " <selenium.webdriver.firefox.webelement.FirefoxWebElement (session=\"031d6609-2292-48a5-8a1a-731f434181bb\", element=\"e2af7f78-d974-4f72-b26f-2dbdc466690e\")>,\n",
       " <selenium.webdriver.firefox.webelement.FirefoxWebElement (session=\"031d6609-2292-48a5-8a1a-731f434181bb\", element=\"086fd3e7-594a-4c9b-920b-24f58af8c11a\")>,\n",
       " <selenium.webdriver.firefox.webelement.FirefoxWebElement (session=\"031d6609-2292-48a5-8a1a-731f434181bb\", element=\"ea685507-846b-40de-b36e-515f764dd1bb\")>,\n",
       " <selenium.webdriver.firefox.webelement.FirefoxWebElement (session=\"031d6609-2292-48a5-8a1a-731f434181bb\", element=\"96261972-1ed8-428a-a99c-a5c886709b46\")>,\n",
       " <selenium.webdriver.firefox.webelement.FirefoxWebElement (session=\"031d6609-2292-48a5-8a1a-731f434181bb\", element=\"139be88c-1cc2-43c8-b8ee-d105b2e16648\")>,\n",
       " <selenium.webdriver.firefox.webelement.FirefoxWebElement (session=\"031d6609-2292-48a5-8a1a-731f434181bb\", element=\"0d80458a-74b9-41fa-831d-1a9d98c3d6b3\")>,\n",
       " <selenium.webdriver.firefox.webelement.FirefoxWebElement (session=\"031d6609-2292-48a5-8a1a-731f434181bb\", element=\"16870da7-ac9e-46c5-b128-1ace36a0d68a\")>,\n",
       " <selenium.webdriver.firefox.webelement.FirefoxWebElement (session=\"031d6609-2292-48a5-8a1a-731f434181bb\", element=\"ea3ad00a-5b6c-40ac-8a58-a4d8db0df3ba\")>,\n",
       " <selenium.webdriver.firefox.webelement.FirefoxWebElement (session=\"031d6609-2292-48a5-8a1a-731f434181bb\", element=\"d101af0a-9ec3-4e55-a0fb-84666ed9467d\")>,\n",
       " <selenium.webdriver.firefox.webelement.FirefoxWebElement (session=\"031d6609-2292-48a5-8a1a-731f434181bb\", element=\"bcfb986a-aee5-40f1-9ae0-211c17475965\")>,\n",
       " <selenium.webdriver.firefox.webelement.FirefoxWebElement (session=\"031d6609-2292-48a5-8a1a-731f434181bb\", element=\"7edd96f7-3ab4-4ec2-98dc-bd53c4221936\")>,\n",
       " <selenium.webdriver.firefox.webelement.FirefoxWebElement (session=\"031d6609-2292-48a5-8a1a-731f434181bb\", element=\"b8db9f62-e05f-44fe-a58e-d79465fc461a\")>,\n",
       " <selenium.webdriver.firefox.webelement.FirefoxWebElement (session=\"031d6609-2292-48a5-8a1a-731f434181bb\", element=\"9cb0d6f8-6714-4276-bc1f-7da5dec81147\")>,\n",
       " <selenium.webdriver.firefox.webelement.FirefoxWebElement (session=\"031d6609-2292-48a5-8a1a-731f434181bb\", element=\"624117aa-15a7-4998-a15d-3588c58a9e7f\")>,\n",
       " <selenium.webdriver.firefox.webelement.FirefoxWebElement (session=\"031d6609-2292-48a5-8a1a-731f434181bb\", element=\"6ae6182d-3c26-4fa6-bc9b-c93f85ebfd0b\")>,\n",
       " <selenium.webdriver.firefox.webelement.FirefoxWebElement (session=\"031d6609-2292-48a5-8a1a-731f434181bb\", element=\"80dd4c33-ae68-4743-96d5-1ad62a9dffb2\")>]"
      ]
     },
     "execution_count": 178,
     "metadata": {},
     "output_type": "execute_result"
    }
   ],
   "source": [
    "# Extract all thags with job titles\n",
    "# Xpath=//tagname[@Attibute='Value']\n",
    "views=driver.find_elements_by_xpath(\"/html/body/div[3]/div[3]/div[5]/div[1]/table[1]/tbody/tr[*]/td[4]\")\n",
    "views[0:30]"
   ]
  },
  {
   "cell_type": "code",
   "execution_count": 179,
   "metadata": {},
   "outputs": [
    {
     "data": {
      "text/plain": [
       "['7.46',\n",
       " '7.11',\n",
       " '5.11',\n",
       " '4.87',\n",
       " '4.41',\n",
       " '4.38',\n",
       " '4.04',\n",
       " '3.89',\n",
       " '3.66',\n",
       " '3.38',\n",
       " '3.37',\n",
       " '3.35',\n",
       " '3.33',\n",
       " '3.23',\n",
       " '3.14',\n",
       " '3.14',\n",
       " '3.00',\n",
       " '2.97',\n",
       " '2.94',\n",
       " '2.94',\n",
       " '2.93',\n",
       " '2.93',\n",
       " '2.91',\n",
       " '2.86',\n",
       " '2.83',\n",
       " '2.76',\n",
       " '2.69',\n",
       " '2.67',\n",
       " '2.66',\n",
       " '2.61']"
      ]
     },
     "execution_count": 179,
     "metadata": {},
     "output_type": "execute_result"
    }
   ],
   "source": [
    "# Run a loopn to iterate over the tags to extract the text inside them\n",
    "for i in views:\n",
    "    view=i.text\n",
    "    view_list.append(view)\n",
    "view_list[0:30]"
   ]
  },
  {
   "cell_type": "code",
   "execution_count": 180,
   "metadata": {},
   "outputs": [
    {
     "name": "stdout",
     "output_type": "stream",
     "text": [
      "30 30 30 30 30\n"
     ]
    }
   ],
   "source": [
    "# Check the length of the lists created ( they should all be the same length)\n",
    "print(len(rank_list), len(name_list), len(artist_list), len(upload_list), len(view_list))"
   ]
  },
  {
   "cell_type": "code",
   "execution_count": 181,
   "metadata": {},
   "outputs": [
    {
     "data": {
      "text/html": [
       "<div>\n",
       "<style scoped>\n",
       "    .dataframe tbody tr th:only-of-type {\n",
       "        vertical-align: middle;\n",
       "    }\n",
       "\n",
       "    .dataframe tbody tr th {\n",
       "        vertical-align: top;\n",
       "    }\n",
       "\n",
       "    .dataframe thead th {\n",
       "        text-align: right;\n",
       "    }\n",
       "</style>\n",
       "<table border=\"1\" class=\"dataframe\">\n",
       "  <thead>\n",
       "    <tr style=\"text-align: right;\">\n",
       "      <th></th>\n",
       "      <th>Rank</th>\n",
       "      <th>Name</th>\n",
       "      <th>Artist</th>\n",
       "      <th>Uploaded on</th>\n",
       "      <th>Views</th>\n",
       "    </tr>\n",
       "  </thead>\n",
       "  <tbody>\n",
       "    <tr>\n",
       "      <th>0</th>\n",
       "      <td>1.</td>\n",
       "      <td>\"Baby Shark Dance\"[28]</td>\n",
       "      <td>Pinkfong Kids' Songs &amp; Stories</td>\n",
       "      <td>June 17, 2016</td>\n",
       "      <td>7.46</td>\n",
       "    </tr>\n",
       "    <tr>\n",
       "      <th>1</th>\n",
       "      <td>2.</td>\n",
       "      <td>\"Despacito\"[30]</td>\n",
       "      <td>Luis Fonsi featuring Daddy Yankee</td>\n",
       "      <td>January 12, 2017</td>\n",
       "      <td>7.11</td>\n",
       "    </tr>\n",
       "    <tr>\n",
       "      <th>2</th>\n",
       "      <td>3.</td>\n",
       "      <td>\"Shape of You\"[31]</td>\n",
       "      <td>Ed Sheeran</td>\n",
       "      <td>January 30, 2017</td>\n",
       "      <td>5.11</td>\n",
       "    </tr>\n",
       "    <tr>\n",
       "      <th>3</th>\n",
       "      <td>4.</td>\n",
       "      <td>\"See You Again\"[32]</td>\n",
       "      <td>Wiz Khalifa featuring Charlie Puth</td>\n",
       "      <td>April 6, 2015</td>\n",
       "      <td>4.87</td>\n",
       "    </tr>\n",
       "    <tr>\n",
       "      <th>4</th>\n",
       "      <td>5.</td>\n",
       "      <td>\"Johny Johny Yes Papa\"[35]</td>\n",
       "      <td>LooLoo Kids</td>\n",
       "      <td>October 8, 2016</td>\n",
       "      <td>4.41</td>\n",
       "    </tr>\n",
       "    <tr>\n",
       "      <th>5</th>\n",
       "      <td>6.</td>\n",
       "      <td>\"Masha and the Bear – Recipe for Disaster\"[36]</td>\n",
       "      <td>Get Movies</td>\n",
       "      <td>January 31, 2012</td>\n",
       "      <td>4.38</td>\n",
       "    </tr>\n",
       "    <tr>\n",
       "      <th>6</th>\n",
       "      <td>7.</td>\n",
       "      <td>\"Uptown Funk\"[37]</td>\n",
       "      <td>Mark Ronson featuring Bruno Mars</td>\n",
       "      <td>November 19, 2014</td>\n",
       "      <td>4.04</td>\n",
       "    </tr>\n",
       "    <tr>\n",
       "      <th>7</th>\n",
       "      <td>8.</td>\n",
       "      <td>\"Gangnam Style\"[38]</td>\n",
       "      <td>Psy</td>\n",
       "      <td>July 15, 2012</td>\n",
       "      <td>3.89</td>\n",
       "    </tr>\n",
       "    <tr>\n",
       "      <th>8</th>\n",
       "      <td>9.</td>\n",
       "      <td>\"Learning Colors – Colorful Eggs on a Farm\"[40]</td>\n",
       "      <td>Miroshka TV</td>\n",
       "      <td>February 27, 2018</td>\n",
       "      <td>3.66</td>\n",
       "    </tr>\n",
       "    <tr>\n",
       "      <th>9</th>\n",
       "      <td>10.</td>\n",
       "      <td>\"Bath Song\"[41]</td>\n",
       "      <td>Cocomelon – Nursery Rhymes</td>\n",
       "      <td>May 2, 2018</td>\n",
       "      <td>3.38</td>\n",
       "    </tr>\n",
       "    <tr>\n",
       "      <th>10</th>\n",
       "      <td>11.</td>\n",
       "      <td>\"Sorry\"[42]</td>\n",
       "      <td>Justin Bieber</td>\n",
       "      <td>October 22, 2015</td>\n",
       "      <td>3.37</td>\n",
       "    </tr>\n",
       "    <tr>\n",
       "      <th>11</th>\n",
       "      <td>12.</td>\n",
       "      <td>\"Sugar\"[43]</td>\n",
       "      <td>Maroon 5</td>\n",
       "      <td>January 14, 2015</td>\n",
       "      <td>3.35</td>\n",
       "    </tr>\n",
       "    <tr>\n",
       "      <th>12</th>\n",
       "      <td>13.</td>\n",
       "      <td>\"Phonics Song with Two Words\"[44]</td>\n",
       "      <td>ChuChu TV</td>\n",
       "      <td>March 6, 2014</td>\n",
       "      <td>3.33</td>\n",
       "    </tr>\n",
       "    <tr>\n",
       "      <th>13</th>\n",
       "      <td>14.</td>\n",
       "      <td>\"Roar\"[45]</td>\n",
       "      <td>Katy Perry</td>\n",
       "      <td>September 5, 2013</td>\n",
       "      <td>3.23</td>\n",
       "    </tr>\n",
       "    <tr>\n",
       "      <th>14</th>\n",
       "      <td>15.</td>\n",
       "      <td>\"Thinking Out Loud\"[46]</td>\n",
       "      <td>Ed Sheeran</td>\n",
       "      <td>October 7, 2014</td>\n",
       "      <td>3.14</td>\n",
       "    </tr>\n",
       "    <tr>\n",
       "      <th>15</th>\n",
       "      <td>16.</td>\n",
       "      <td>\"Counting Stars\"[47]</td>\n",
       "      <td>OneRepublic</td>\n",
       "      <td>May 31, 2013</td>\n",
       "      <td>3.14</td>\n",
       "    </tr>\n",
       "    <tr>\n",
       "      <th>16</th>\n",
       "      <td>17.</td>\n",
       "      <td>\"Shake It Off\"[48]</td>\n",
       "      <td>Taylor Swift</td>\n",
       "      <td>August 18, 2014</td>\n",
       "      <td>3.00</td>\n",
       "    </tr>\n",
       "    <tr>\n",
       "      <th>17</th>\n",
       "      <td>18.</td>\n",
       "      <td>\"Dame Tu Cosita\"[49]</td>\n",
       "      <td>El Chombo featuring Cutty Ranks</td>\n",
       "      <td>April 5, 2018</td>\n",
       "      <td>2.97</td>\n",
       "    </tr>\n",
       "    <tr>\n",
       "      <th>18</th>\n",
       "      <td>19.</td>\n",
       "      <td>\"Bailando\"[50]</td>\n",
       "      <td>Enrique Iglesias featuring Descemer Bueno and ...</td>\n",
       "      <td>April 11, 2014</td>\n",
       "      <td>2.94</td>\n",
       "    </tr>\n",
       "    <tr>\n",
       "      <th>19</th>\n",
       "      <td>20.</td>\n",
       "      <td>\"Lean On\"[51]</td>\n",
       "      <td>Major Lazer and DJ Snake featuring MØ</td>\n",
       "      <td>March 22, 2015</td>\n",
       "      <td>2.94</td>\n",
       "    </tr>\n",
       "    <tr>\n",
       "      <th>20</th>\n",
       "      <td>21.</td>\n",
       "      <td>\"Faded\"[52]</td>\n",
       "      <td>Alan Walker</td>\n",
       "      <td>December 3, 2015</td>\n",
       "      <td>2.93</td>\n",
       "    </tr>\n",
       "    <tr>\n",
       "      <th>21</th>\n",
       "      <td>22.</td>\n",
       "      <td>\"Dark Horse\"[53]</td>\n",
       "      <td>Katy Perry featuring Juicy J</td>\n",
       "      <td>February 20, 2014</td>\n",
       "      <td>2.93</td>\n",
       "    </tr>\n",
       "    <tr>\n",
       "      <th>22</th>\n",
       "      <td>23.</td>\n",
       "      <td>\"Girls Like You\"[54]</td>\n",
       "      <td>Maroon 5 featuring Cardi B</td>\n",
       "      <td>May 31, 2018</td>\n",
       "      <td>2.91</td>\n",
       "    </tr>\n",
       "    <tr>\n",
       "      <th>23</th>\n",
       "      <td>24.</td>\n",
       "      <td>\"Let Her Go\"[55]</td>\n",
       "      <td>Passenger</td>\n",
       "      <td>July 25, 2012</td>\n",
       "      <td>2.86</td>\n",
       "    </tr>\n",
       "    <tr>\n",
       "      <th>24</th>\n",
       "      <td>25.</td>\n",
       "      <td>\"Mi Gente\"[56]</td>\n",
       "      <td>J Balvin and Willy William</td>\n",
       "      <td>June 29, 2017</td>\n",
       "      <td>2.83</td>\n",
       "    </tr>\n",
       "    <tr>\n",
       "      <th>25</th>\n",
       "      <td>26.</td>\n",
       "      <td>\"Hello\"[57]</td>\n",
       "      <td>Adele</td>\n",
       "      <td>October 22, 2015</td>\n",
       "      <td>2.76</td>\n",
       "    </tr>\n",
       "    <tr>\n",
       "      <th>26</th>\n",
       "      <td>27.</td>\n",
       "      <td>\"Blank Space\"[58]</td>\n",
       "      <td>Taylor Swift</td>\n",
       "      <td>November 10, 2014</td>\n",
       "      <td>2.69</td>\n",
       "    </tr>\n",
       "    <tr>\n",
       "      <th>27</th>\n",
       "      <td>28.</td>\n",
       "      <td>\"Waka Waka (This Time for Africa)\"[59]</td>\n",
       "      <td>Shakira featuring Freshlyground</td>\n",
       "      <td>June 4, 2010</td>\n",
       "      <td>2.67</td>\n",
       "    </tr>\n",
       "    <tr>\n",
       "      <th>28</th>\n",
       "      <td>29.</td>\n",
       "      <td>\"Perfect\"[60]</td>\n",
       "      <td>Ed Sheeran</td>\n",
       "      <td>November 9, 2017</td>\n",
       "      <td>2.66</td>\n",
       "    </tr>\n",
       "    <tr>\n",
       "      <th>29</th>\n",
       "      <td>30.</td>\n",
       "      <td>\"Chantaje\"[61]</td>\n",
       "      <td>Shakira featuring Maluma</td>\n",
       "      <td>November 18, 2016</td>\n",
       "      <td>2.61</td>\n",
       "    </tr>\n",
       "  </tbody>\n",
       "</table>\n",
       "</div>"
      ],
      "text/plain": [
       "   Rank                                             Name  \\\n",
       "0    1.                           \"Baby Shark Dance\"[28]   \n",
       "1    2.                                  \"Despacito\"[30]   \n",
       "2    3.                               \"Shape of You\"[31]   \n",
       "3    4.                              \"See You Again\"[32]   \n",
       "4    5.                       \"Johny Johny Yes Papa\"[35]   \n",
       "5    6.   \"Masha and the Bear – Recipe for Disaster\"[36]   \n",
       "6    7.                                \"Uptown Funk\"[37]   \n",
       "7    8.                              \"Gangnam Style\"[38]   \n",
       "8    9.  \"Learning Colors – Colorful Eggs on a Farm\"[40]   \n",
       "9   10.                                  \"Bath Song\"[41]   \n",
       "10  11.                                      \"Sorry\"[42]   \n",
       "11  12.                                      \"Sugar\"[43]   \n",
       "12  13.                \"Phonics Song with Two Words\"[44]   \n",
       "13  14.                                       \"Roar\"[45]   \n",
       "14  15.                          \"Thinking Out Loud\"[46]   \n",
       "15  16.                             \"Counting Stars\"[47]   \n",
       "16  17.                               \"Shake It Off\"[48]   \n",
       "17  18.                             \"Dame Tu Cosita\"[49]   \n",
       "18  19.                                   \"Bailando\"[50]   \n",
       "19  20.                                    \"Lean On\"[51]   \n",
       "20  21.                                      \"Faded\"[52]   \n",
       "21  22.                                 \"Dark Horse\"[53]   \n",
       "22  23.                             \"Girls Like You\"[54]   \n",
       "23  24.                                 \"Let Her Go\"[55]   \n",
       "24  25.                                   \"Mi Gente\"[56]   \n",
       "25  26.                                      \"Hello\"[57]   \n",
       "26  27.                                \"Blank Space\"[58]   \n",
       "27  28.           \"Waka Waka (This Time for Africa)\"[59]   \n",
       "28  29.                                    \"Perfect\"[60]   \n",
       "29  30.                                   \"Chantaje\"[61]   \n",
       "\n",
       "                                               Artist        Uploaded on Views  \n",
       "0                      Pinkfong Kids' Songs & Stories      June 17, 2016  7.46  \n",
       "1                   Luis Fonsi featuring Daddy Yankee   January 12, 2017  7.11  \n",
       "2                                          Ed Sheeran   January 30, 2017  5.11  \n",
       "3                  Wiz Khalifa featuring Charlie Puth      April 6, 2015  4.87  \n",
       "4                                         LooLoo Kids    October 8, 2016  4.41  \n",
       "5                                          Get Movies   January 31, 2012  4.38  \n",
       "6                    Mark Ronson featuring Bruno Mars  November 19, 2014  4.04  \n",
       "7                                                 Psy      July 15, 2012  3.89  \n",
       "8                                         Miroshka TV  February 27, 2018  3.66  \n",
       "9                          Cocomelon – Nursery Rhymes        May 2, 2018  3.38  \n",
       "10                                      Justin Bieber   October 22, 2015  3.37  \n",
       "11                                           Maroon 5   January 14, 2015  3.35  \n",
       "12                                          ChuChu TV      March 6, 2014  3.33  \n",
       "13                                         Katy Perry  September 5, 2013  3.23  \n",
       "14                                         Ed Sheeran    October 7, 2014  3.14  \n",
       "15                                        OneRepublic       May 31, 2013  3.14  \n",
       "16                                       Taylor Swift    August 18, 2014  3.00  \n",
       "17                    El Chombo featuring Cutty Ranks      April 5, 2018  2.97  \n",
       "18  Enrique Iglesias featuring Descemer Bueno and ...     April 11, 2014  2.94  \n",
       "19              Major Lazer and DJ Snake featuring MØ     March 22, 2015  2.94  \n",
       "20                                        Alan Walker   December 3, 2015  2.93  \n",
       "21                       Katy Perry featuring Juicy J  February 20, 2014  2.93  \n",
       "22                         Maroon 5 featuring Cardi B       May 31, 2018  2.91  \n",
       "23                                          Passenger      July 25, 2012  2.86  \n",
       "24                         J Balvin and Willy William      June 29, 2017  2.83  \n",
       "25                                              Adele   October 22, 2015  2.76  \n",
       "26                                       Taylor Swift  November 10, 2014  2.69  \n",
       "27                    Shakira featuring Freshlyground       June 4, 2010  2.67  \n",
       "28                                         Ed Sheeran   November 9, 2017  2.66  \n",
       "29                           Shakira featuring Maluma  November 18, 2016  2.61  "
      ]
     },
     "execution_count": 181,
     "metadata": {},
     "output_type": "execute_result"
    }
   ],
   "source": [
    "# Create a dataframe from the lists scraped from the webpage(s)\n",
    "Most_viewed=pd.DataFrame({})\n",
    "Most_viewed['Rank']= rank_list\n",
    "Most_viewed['Name']= name_list\n",
    "Most_viewed['Artist']= artist_list\n",
    "Most_viewed['Uploaded on']= upload_list\n",
    "Most_viewed['Views']= view_list\n",
    "Most_viewed"
   ]
  },
  {
   "cell_type": "markdown",
   "metadata": {},
   "source": [
    "Question 2"
   ]
  },
  {
   "cell_type": "markdown",
   "metadata": {},
   "source": [
    "Scrape the details team India’s international fixtures from bcci.tv.\n",
    "Url = https://www.bcci.tv/.\n",
    "You need to find following details:\n",
    "A) Match title (I.e. 1\n",
    "st ODI)\n",
    "B) Series\n",
    "C) Place\n",
    "D) Date\n",
    "E) Time\n",
    "Note: - From bcci.tv home page you have reach to the international fixture page through code."
   ]
  },
  {
   "cell_type": "code",
   "execution_count": 200,
   "metadata": {},
   "outputs": [],
   "source": [
    "url2 =\"https://www.bcci.tv\""
   ]
  },
  {
   "cell_type": "code",
   "execution_count": 201,
   "metadata": {},
   "outputs": [],
   "source": [
    "# Open the webpage through the web driver\n",
    "driver.get(url2)"
   ]
  },
  {
   "cell_type": "code",
   "execution_count": 202,
   "metadata": {},
   "outputs": [],
   "source": [
    "# Move to International tab\n",
    "driver.find_element_by_xpath('/html/body/div[3]/div/div[2]/div[2]/nav/ul/li[1]/div[2]').click()"
   ]
  },
  {
   "cell_type": "code",
   "execution_count": 203,
   "metadata": {},
   "outputs": [],
   "source": [
    "# Move to Fixtures tab\n",
    "driver.find_element_by_xpath('/html/body/div[3]/div/div[2]/div[2]/nav/ul/li[1]/div[2]/div/ul/li[1]/a').click()"
   ]
  },
  {
   "cell_type": "code",
   "execution_count": 204,
   "metadata": {},
   "outputs": [],
   "source": [
    "match_list=[]\n",
    "series_list=[]\n",
    "place_list=[]\n",
    "date_list=[]\n",
    "time_list=[]"
   ]
  },
  {
   "cell_type": "code",
   "execution_count": 205,
   "metadata": {},
   "outputs": [
    {
     "data": {
      "text/plain": [
       "[<selenium.webdriver.firefox.webelement.FirefoxWebElement (session=\"031d6609-2292-48a5-8a1a-731f434181bb\", element=\"577cb32e-a6ac-41b0-83ed-3c25a422527a\")>,\n",
       " <selenium.webdriver.firefox.webelement.FirefoxWebElement (session=\"031d6609-2292-48a5-8a1a-731f434181bb\", element=\"f1bc6c3b-8eb4-43a4-a138-ba3f4c51a104\")>,\n",
       " <selenium.webdriver.firefox.webelement.FirefoxWebElement (session=\"031d6609-2292-48a5-8a1a-731f434181bb\", element=\"c9976766-bbd7-4d81-9b48-951b83f1484c\")>,\n",
       " <selenium.webdriver.firefox.webelement.FirefoxWebElement (session=\"031d6609-2292-48a5-8a1a-731f434181bb\", element=\"d029908b-2294-4c6e-be3e-4a65b7006eac\")>,\n",
       " <selenium.webdriver.firefox.webelement.FirefoxWebElement (session=\"031d6609-2292-48a5-8a1a-731f434181bb\", element=\"ed01eee3-7a1f-4bbc-9921-b80bd784fbbd\")>,\n",
       " <selenium.webdriver.firefox.webelement.FirefoxWebElement (session=\"031d6609-2292-48a5-8a1a-731f434181bb\", element=\"bff80b18-f221-4461-8ed0-2adaa4b5124c\")>,\n",
       " <selenium.webdriver.firefox.webelement.FirefoxWebElement (session=\"031d6609-2292-48a5-8a1a-731f434181bb\", element=\"6ebb75cd-0d47-46a2-a2e7-b2fa02e2b146\")>,\n",
       " <selenium.webdriver.firefox.webelement.FirefoxWebElement (session=\"031d6609-2292-48a5-8a1a-731f434181bb\", element=\"9f104cc0-5783-4bc3-ad9a-d1c731a87337\")>,\n",
       " <selenium.webdriver.firefox.webelement.FirefoxWebElement (session=\"031d6609-2292-48a5-8a1a-731f434181bb\", element=\"2712d3cd-e49c-40e0-b32a-678519627ded\")>,\n",
       " <selenium.webdriver.firefox.webelement.FirefoxWebElement (session=\"031d6609-2292-48a5-8a1a-731f434181bb\", element=\"f8745ad0-2e62-4e15-8d7f-fb08b89bf73f\")>,\n",
       " <selenium.webdriver.firefox.webelement.FirefoxWebElement (session=\"031d6609-2292-48a5-8a1a-731f434181bb\", element=\"136576b4-2f1d-4683-bd71-d32d095aa903\")>,\n",
       " <selenium.webdriver.firefox.webelement.FirefoxWebElement (session=\"031d6609-2292-48a5-8a1a-731f434181bb\", element=\"82e71b01-4468-4f25-85cf-1ebe5a92349b\")>,\n",
       " <selenium.webdriver.firefox.webelement.FirefoxWebElement (session=\"031d6609-2292-48a5-8a1a-731f434181bb\", element=\"ce03b4a4-6af9-49b1-806b-46fa779427e6\")>,\n",
       " <selenium.webdriver.firefox.webelement.FirefoxWebElement (session=\"031d6609-2292-48a5-8a1a-731f434181bb\", element=\"a38fe21d-27d8-4ced-aad1-2a1353d536cc\")>,\n",
       " <selenium.webdriver.firefox.webelement.FirefoxWebElement (session=\"031d6609-2292-48a5-8a1a-731f434181bb\", element=\"1751f625-27c6-4677-a96a-772e29b6e465\")>,\n",
       " <selenium.webdriver.firefox.webelement.FirefoxWebElement (session=\"031d6609-2292-48a5-8a1a-731f434181bb\", element=\"e38dfe2b-42b3-48d8-8306-c43488475565\")>,\n",
       " <selenium.webdriver.firefox.webelement.FirefoxWebElement (session=\"031d6609-2292-48a5-8a1a-731f434181bb\", element=\"f06973cb-420f-44d0-958e-17d65ca22cc6\")>,\n",
       " <selenium.webdriver.firefox.webelement.FirefoxWebElement (session=\"031d6609-2292-48a5-8a1a-731f434181bb\", element=\"a3304405-4e1e-4a3b-9c9a-b7c14e7f4644\")>,\n",
       " <selenium.webdriver.firefox.webelement.FirefoxWebElement (session=\"031d6609-2292-48a5-8a1a-731f434181bb\", element=\"687fec1e-20bd-488a-b898-cb703870ecb2\")>,\n",
       " <selenium.webdriver.firefox.webelement.FirefoxWebElement (session=\"031d6609-2292-48a5-8a1a-731f434181bb\", element=\"9c475415-e0ba-4bb0-b961-4558c46522c1\")>]"
      ]
     },
     "execution_count": 205,
     "metadata": {},
     "output_type": "execute_result"
    }
   ],
   "source": [
    "# Extract all thags with job titles\n",
    "# Xpath=//tagname[@Attibute='Value']\n",
    "matches=driver.find_elements_by_xpath(\"/html/body/div[4]/div/div/div[2]/section/div/div/a[*]/div[2]/div[2]/p/strong\")\n",
    "matches[0:20]"
   ]
  },
  {
   "cell_type": "code",
   "execution_count": 206,
   "metadata": {},
   "outputs": [],
   "source": [
    "from selenium.common.exceptions import StaleElementReferenceException\n",
    "from selenium.webdriver.support.ui import WebDriverWait\n",
    "from selenium.webdriver.support import expected_conditions as EC\n",
    "from selenium.webdriver.common.by import By"
   ]
  },
  {
   "cell_type": "code",
   "execution_count": 210,
   "metadata": {},
   "outputs": [
    {
     "name": "stdout",
     "output_type": "stream",
     "text": [
      "Exception Raised:  Message: The element reference of [object String] \"577cb32e-a6ac-41b0-83ed-3c25a422527a\" is stale; either the element is no longer attached to the DOM, it is not in the current frame context, or the document has been refreshed\n",
      "\n",
      "Refreshing page!\n"
     ]
    },
    {
     "ename": "TypeError",
     "evalue": "find_element() takes from 1 to 3 positional arguments but 77 were given",
     "output_type": "error",
     "traceback": [
      "\u001b[1;31m---------------------------------------------------------------------------\u001b[0m",
      "\u001b[1;31mStaleElementReferenceException\u001b[0m            Traceback (most recent call last)",
      "\u001b[1;32m<ipython-input-210-b5bfdee43335>\u001b[0m in \u001b[0;36m<module>\u001b[1;34m\u001b[0m\n\u001b[0;32m      4\u001b[0m     \u001b[1;32mfor\u001b[0m \u001b[0mi\u001b[0m \u001b[1;32min\u001b[0m \u001b[0mmatches\u001b[0m\u001b[1;33m:\u001b[0m\u001b[1;33m\u001b[0m\u001b[1;33m\u001b[0m\u001b[0m\n\u001b[1;32m----> 5\u001b[1;33m         \u001b[0mmatch\u001b[0m\u001b[1;33m=\u001b[0m\u001b[0mi\u001b[0m\u001b[1;33m.\u001b[0m\u001b[0mtext\u001b[0m\u001b[1;33m\u001b[0m\u001b[1;33m\u001b[0m\u001b[0m\n\u001b[0m\u001b[0;32m      6\u001b[0m         \u001b[0mmatch_list\u001b[0m\u001b[1;33m.\u001b[0m\u001b[0mappend\u001b[0m\u001b[1;33m(\u001b[0m\u001b[0mmatch\u001b[0m\u001b[1;33m)\u001b[0m\u001b[1;33m\u001b[0m\u001b[1;33m\u001b[0m\u001b[0m\n",
      "\u001b[1;32m~\\anaconda3\\lib\\site-packages\\selenium\\webdriver\\remote\\webelement.py\u001b[0m in \u001b[0;36mtext\u001b[1;34m(self)\u001b[0m\n\u001b[0;32m     75\u001b[0m         \u001b[1;34m\"\"\"The text of the element.\"\"\"\u001b[0m\u001b[1;33m\u001b[0m\u001b[1;33m\u001b[0m\u001b[0m\n\u001b[1;32m---> 76\u001b[1;33m         \u001b[1;32mreturn\u001b[0m \u001b[0mself\u001b[0m\u001b[1;33m.\u001b[0m\u001b[0m_execute\u001b[0m\u001b[1;33m(\u001b[0m\u001b[0mCommand\u001b[0m\u001b[1;33m.\u001b[0m\u001b[0mGET_ELEMENT_TEXT\u001b[0m\u001b[1;33m)\u001b[0m\u001b[1;33m[\u001b[0m\u001b[1;34m'value'\u001b[0m\u001b[1;33m]\u001b[0m\u001b[1;33m\u001b[0m\u001b[1;33m\u001b[0m\u001b[0m\n\u001b[0m\u001b[0;32m     77\u001b[0m \u001b[1;33m\u001b[0m\u001b[0m\n",
      "\u001b[1;32m~\\anaconda3\\lib\\site-packages\\selenium\\webdriver\\remote\\webelement.py\u001b[0m in \u001b[0;36m_execute\u001b[1;34m(self, command, params)\u001b[0m\n\u001b[0;32m    632\u001b[0m         \u001b[0mparams\u001b[0m\u001b[1;33m[\u001b[0m\u001b[1;34m'id'\u001b[0m\u001b[1;33m]\u001b[0m \u001b[1;33m=\u001b[0m \u001b[0mself\u001b[0m\u001b[1;33m.\u001b[0m\u001b[0m_id\u001b[0m\u001b[1;33m\u001b[0m\u001b[1;33m\u001b[0m\u001b[0m\n\u001b[1;32m--> 633\u001b[1;33m         \u001b[1;32mreturn\u001b[0m \u001b[0mself\u001b[0m\u001b[1;33m.\u001b[0m\u001b[0m_parent\u001b[0m\u001b[1;33m.\u001b[0m\u001b[0mexecute\u001b[0m\u001b[1;33m(\u001b[0m\u001b[0mcommand\u001b[0m\u001b[1;33m,\u001b[0m \u001b[0mparams\u001b[0m\u001b[1;33m)\u001b[0m\u001b[1;33m\u001b[0m\u001b[1;33m\u001b[0m\u001b[0m\n\u001b[0m\u001b[0;32m    634\u001b[0m \u001b[1;33m\u001b[0m\u001b[0m\n",
      "\u001b[1;32m~\\anaconda3\\lib\\site-packages\\selenium\\webdriver\\remote\\webdriver.py\u001b[0m in \u001b[0;36mexecute\u001b[1;34m(self, driver_command, params)\u001b[0m\n\u001b[0;32m    320\u001b[0m         \u001b[1;32mif\u001b[0m \u001b[0mresponse\u001b[0m\u001b[1;33m:\u001b[0m\u001b[1;33m\u001b[0m\u001b[1;33m\u001b[0m\u001b[0m\n\u001b[1;32m--> 321\u001b[1;33m             \u001b[0mself\u001b[0m\u001b[1;33m.\u001b[0m\u001b[0merror_handler\u001b[0m\u001b[1;33m.\u001b[0m\u001b[0mcheck_response\u001b[0m\u001b[1;33m(\u001b[0m\u001b[0mresponse\u001b[0m\u001b[1;33m)\u001b[0m\u001b[1;33m\u001b[0m\u001b[1;33m\u001b[0m\u001b[0m\n\u001b[0m\u001b[0;32m    322\u001b[0m             response['value'] = self._unwrap_value(\n",
      "\u001b[1;32m~\\anaconda3\\lib\\site-packages\\selenium\\webdriver\\remote\\errorhandler.py\u001b[0m in \u001b[0;36mcheck_response\u001b[1;34m(self, response)\u001b[0m\n\u001b[0;32m    241\u001b[0m             \u001b[1;32mraise\u001b[0m \u001b[0mexception_class\u001b[0m\u001b[1;33m(\u001b[0m\u001b[0mmessage\u001b[0m\u001b[1;33m,\u001b[0m \u001b[0mscreen\u001b[0m\u001b[1;33m,\u001b[0m \u001b[0mstacktrace\u001b[0m\u001b[1;33m,\u001b[0m \u001b[0malert_text\u001b[0m\u001b[1;33m)\u001b[0m\u001b[1;33m\u001b[0m\u001b[1;33m\u001b[0m\u001b[0m\n\u001b[1;32m--> 242\u001b[1;33m         \u001b[1;32mraise\u001b[0m \u001b[0mexception_class\u001b[0m\u001b[1;33m(\u001b[0m\u001b[0mmessage\u001b[0m\u001b[1;33m,\u001b[0m \u001b[0mscreen\u001b[0m\u001b[1;33m,\u001b[0m \u001b[0mstacktrace\u001b[0m\u001b[1;33m)\u001b[0m\u001b[1;33m\u001b[0m\u001b[1;33m\u001b[0m\u001b[0m\n\u001b[0m\u001b[0;32m    243\u001b[0m \u001b[1;33m\u001b[0m\u001b[0m\n",
      "\u001b[1;31mStaleElementReferenceException\u001b[0m: Message: The element reference of [object String] \"577cb32e-a6ac-41b0-83ed-3c25a422527a\" is stale; either the element is no longer attached to the DOM, it is not in the current frame context, or the document has been refreshed\n",
      "\nDuring handling of the above exception, another exception occurred:\n",
      "\u001b[1;31mTypeError\u001b[0m                                 Traceback (most recent call last)",
      "\u001b[1;32m<ipython-input-210-b5bfdee43335>\u001b[0m in \u001b[0;36m<module>\u001b[1;34m\u001b[0m\n\u001b[0;32m     10\u001b[0m     \u001b[0mprint\u001b[0m\u001b[1;33m(\u001b[0m\u001b[1;34m'Refreshing page!'\u001b[0m\u001b[1;33m)\u001b[0m\u001b[1;33m\u001b[0m\u001b[1;33m\u001b[0m\u001b[0m\n\u001b[0;32m     11\u001b[0m     \u001b[0mdriver\u001b[0m\u001b[1;33m.\u001b[0m\u001b[0mget\u001b[0m\u001b[1;33m(\u001b[0m\u001b[1;34m'https://www.bcci.tv/international/fixtures'\u001b[0m\u001b[1;33m)\u001b[0m\u001b[1;33m\u001b[0m\u001b[1;33m\u001b[0m\u001b[0m\n\u001b[1;32m---> 12\u001b[1;33m     \u001b[0mWebDriverWait\u001b[0m\u001b[1;33m(\u001b[0m\u001b[0mdriver\u001b[0m\u001b[1;33m,\u001b[0m \u001b[0mdelay\u001b[0m\u001b[1;33m)\u001b[0m\u001b[1;33m.\u001b[0m\u001b[0muntil\u001b[0m\u001b[1;33m(\u001b[0m\u001b[0mEC\u001b[0m\u001b[1;33m.\u001b[0m\u001b[0mpresence_of_element_located\u001b[0m\u001b[1;33m(\u001b[0m\u001b[1;33m(\u001b[0m\u001b[1;34m'/html/body/div[4]/div/div/div[2]/section/div/div/a[*]/div[2]/div[2]/p/strong'\u001b[0m\u001b[1;33m)\u001b[0m\u001b[1;33m)\u001b[0m\u001b[1;33m)\u001b[0m\u001b[1;33m\u001b[0m\u001b[1;33m\u001b[0m\u001b[0m\n\u001b[0m\u001b[0;32m     13\u001b[0m     \u001b[0melement\u001b[0m\u001b[1;33m=\u001b[0m\u001b[0mdriver\u001b[0m\u001b[1;33m.\u001b[0m\u001b[0mfind_element_by_xpath\u001b[0m\u001b[1;33m(\u001b[0m\u001b[1;34m'/html/body/div[4]/div/div/div[2]/section/div/div/a[*]/div[2]/div[2]/p/strong'\u001b[0m\u001b[1;33m)\u001b[0m\u001b[1;33m\u001b[0m\u001b[1;33m\u001b[0m\u001b[0m\n\u001b[0;32m     14\u001b[0m     \u001b[0mprint\u001b[0m\u001b[1;33m(\u001b[0m\u001b[0melement\u001b[0m\u001b[1;33m)\u001b[0m\u001b[1;33m\u001b[0m\u001b[1;33m\u001b[0m\u001b[0m\n",
      "\u001b[1;32m~\\anaconda3\\lib\\site-packages\\selenium\\webdriver\\support\\wait.py\u001b[0m in \u001b[0;36muntil\u001b[1;34m(self, method, message)\u001b[0m\n\u001b[0;32m     69\u001b[0m         \u001b[1;32mwhile\u001b[0m \u001b[1;32mTrue\u001b[0m\u001b[1;33m:\u001b[0m\u001b[1;33m\u001b[0m\u001b[1;33m\u001b[0m\u001b[0m\n\u001b[0;32m     70\u001b[0m             \u001b[1;32mtry\u001b[0m\u001b[1;33m:\u001b[0m\u001b[1;33m\u001b[0m\u001b[1;33m\u001b[0m\u001b[0m\n\u001b[1;32m---> 71\u001b[1;33m                 \u001b[0mvalue\u001b[0m \u001b[1;33m=\u001b[0m \u001b[0mmethod\u001b[0m\u001b[1;33m(\u001b[0m\u001b[0mself\u001b[0m\u001b[1;33m.\u001b[0m\u001b[0m_driver\u001b[0m\u001b[1;33m)\u001b[0m\u001b[1;33m\u001b[0m\u001b[1;33m\u001b[0m\u001b[0m\n\u001b[0m\u001b[0;32m     72\u001b[0m                 \u001b[1;32mif\u001b[0m \u001b[0mvalue\u001b[0m\u001b[1;33m:\u001b[0m\u001b[1;33m\u001b[0m\u001b[1;33m\u001b[0m\u001b[0m\n\u001b[0;32m     73\u001b[0m                     \u001b[1;32mreturn\u001b[0m \u001b[0mvalue\u001b[0m\u001b[1;33m\u001b[0m\u001b[1;33m\u001b[0m\u001b[0m\n",
      "\u001b[1;32m~\\anaconda3\\lib\\site-packages\\selenium\\webdriver\\support\\expected_conditions.py\u001b[0m in \u001b[0;36m__call__\u001b[1;34m(self, driver)\u001b[0m\n\u001b[0;32m     62\u001b[0m \u001b[1;33m\u001b[0m\u001b[0m\n\u001b[0;32m     63\u001b[0m     \u001b[1;32mdef\u001b[0m \u001b[0m__call__\u001b[0m\u001b[1;33m(\u001b[0m\u001b[0mself\u001b[0m\u001b[1;33m,\u001b[0m \u001b[0mdriver\u001b[0m\u001b[1;33m)\u001b[0m\u001b[1;33m:\u001b[0m\u001b[1;33m\u001b[0m\u001b[1;33m\u001b[0m\u001b[0m\n\u001b[1;32m---> 64\u001b[1;33m         \u001b[1;32mreturn\u001b[0m \u001b[0m_find_element\u001b[0m\u001b[1;33m(\u001b[0m\u001b[0mdriver\u001b[0m\u001b[1;33m,\u001b[0m \u001b[0mself\u001b[0m\u001b[1;33m.\u001b[0m\u001b[0mlocator\u001b[0m\u001b[1;33m)\u001b[0m\u001b[1;33m\u001b[0m\u001b[1;33m\u001b[0m\u001b[0m\n\u001b[0m\u001b[0;32m     65\u001b[0m \u001b[1;33m\u001b[0m\u001b[0m\n\u001b[0;32m     66\u001b[0m \u001b[1;33m\u001b[0m\u001b[0m\n",
      "\u001b[1;32m~\\anaconda3\\lib\\site-packages\\selenium\\webdriver\\support\\expected_conditions.py\u001b[0m in \u001b[0;36m_find_element\u001b[1;34m(driver, by)\u001b[0m\n\u001b[0;32m    409\u001b[0m     if thrown.\"\"\"\n\u001b[0;32m    410\u001b[0m     \u001b[1;32mtry\u001b[0m\u001b[1;33m:\u001b[0m\u001b[1;33m\u001b[0m\u001b[1;33m\u001b[0m\u001b[0m\n\u001b[1;32m--> 411\u001b[1;33m         \u001b[1;32mreturn\u001b[0m \u001b[0mdriver\u001b[0m\u001b[1;33m.\u001b[0m\u001b[0mfind_element\u001b[0m\u001b[1;33m(\u001b[0m\u001b[1;33m*\u001b[0m\u001b[0mby\u001b[0m\u001b[1;33m)\u001b[0m\u001b[1;33m\u001b[0m\u001b[1;33m\u001b[0m\u001b[0m\n\u001b[0m\u001b[0;32m    412\u001b[0m     \u001b[1;32mexcept\u001b[0m \u001b[0mNoSuchElementException\u001b[0m \u001b[1;32mas\u001b[0m \u001b[0me\u001b[0m\u001b[1;33m:\u001b[0m\u001b[1;33m\u001b[0m\u001b[1;33m\u001b[0m\u001b[0m\n\u001b[0;32m    413\u001b[0m         \u001b[1;32mraise\u001b[0m \u001b[0me\u001b[0m\u001b[1;33m\u001b[0m\u001b[1;33m\u001b[0m\u001b[0m\n",
      "\u001b[1;31mTypeError\u001b[0m: find_element() takes from 1 to 3 positional arguments but 77 were given"
     ]
    }
   ],
   "source": [
    "# Run a loopn to iterate over the tags to extract the text inside them\n",
    "delay=5\n",
    "try:\n",
    "    for i in matches:\n",
    "        match=i.text\n",
    "        match_list.append(match)\n",
    "    match_list[0:30]\n",
    "except StaleElementReferenceException as e:\n",
    "    print('Exception Raised: ', e)\n",
    "    print('Refreshing page!')\n",
    "    driver.get('https://www.bcci.tv/international/fixtures')\n",
    "    WebDriverWait(driver, delay).until(EC.presence_of_element_located(('/html/body/div[4]/div/div/div[2]/section/div/div/a[*]/div[2]/div[2]/p/strong')))\n",
    "    element=driver.find_element_by_xpath('/html/body/div[4]/div/div/div[2]/section/div/div/a[*]/div[2]/div[2]/p/strong')\n",
    "    print(element)\n",
    "    "
   ]
  },
  {
   "cell_type": "code",
   "execution_count": 212,
   "metadata": {},
   "outputs": [
    {
     "data": {
      "text/plain": [
       "[<selenium.webdriver.firefox.webelement.FirefoxWebElement (session=\"031d6609-2292-48a5-8a1a-731f434181bb\", element=\"c9d6d2c5-ea40-4b26-bd54-4b6f1a9f872c\")>,\n",
       " <selenium.webdriver.firefox.webelement.FirefoxWebElement (session=\"031d6609-2292-48a5-8a1a-731f434181bb\", element=\"748ed41c-7df4-41a1-aad8-8840b48004ae\")>,\n",
       " <selenium.webdriver.firefox.webelement.FirefoxWebElement (session=\"031d6609-2292-48a5-8a1a-731f434181bb\", element=\"568121d5-28eb-4183-be30-5303849b3c00\")>,\n",
       " <selenium.webdriver.firefox.webelement.FirefoxWebElement (session=\"031d6609-2292-48a5-8a1a-731f434181bb\", element=\"d9aaebe2-c3ca-4014-a442-d000c0de4323\")>,\n",
       " <selenium.webdriver.firefox.webelement.FirefoxWebElement (session=\"031d6609-2292-48a5-8a1a-731f434181bb\", element=\"e47e2383-e771-4b1b-a656-79a5cb0333f4\")>,\n",
       " <selenium.webdriver.firefox.webelement.FirefoxWebElement (session=\"031d6609-2292-48a5-8a1a-731f434181bb\", element=\"51285c5c-2c5a-45f4-8dc6-96b157005d12\")>,\n",
       " <selenium.webdriver.firefox.webelement.FirefoxWebElement (session=\"031d6609-2292-48a5-8a1a-731f434181bb\", element=\"9eef0cf3-b579-4142-9898-22b5eb76d50c\")>,\n",
       " <selenium.webdriver.firefox.webelement.FirefoxWebElement (session=\"031d6609-2292-48a5-8a1a-731f434181bb\", element=\"5984f955-6475-47b0-a97a-cacec429107c\")>,\n",
       " <selenium.webdriver.firefox.webelement.FirefoxWebElement (session=\"031d6609-2292-48a5-8a1a-731f434181bb\", element=\"f41a4630-d5d5-4519-843d-d6d943f208a9\")>,\n",
       " <selenium.webdriver.firefox.webelement.FirefoxWebElement (session=\"031d6609-2292-48a5-8a1a-731f434181bb\", element=\"f81446d5-087f-4926-8afb-c07f351401db\")>,\n",
       " <selenium.webdriver.firefox.webelement.FirefoxWebElement (session=\"031d6609-2292-48a5-8a1a-731f434181bb\", element=\"0b005b22-a6b4-4c3c-a741-910dbf26a942\")>,\n",
       " <selenium.webdriver.firefox.webelement.FirefoxWebElement (session=\"031d6609-2292-48a5-8a1a-731f434181bb\", element=\"b1a72244-8607-4d1c-a9ca-84282214acfb\")>,\n",
       " <selenium.webdriver.firefox.webelement.FirefoxWebElement (session=\"031d6609-2292-48a5-8a1a-731f434181bb\", element=\"422f6efd-cd1f-427d-aba4-67918ea5a3c2\")>,\n",
       " <selenium.webdriver.firefox.webelement.FirefoxWebElement (session=\"031d6609-2292-48a5-8a1a-731f434181bb\", element=\"4d43e18d-f44c-4235-a15b-9b951c9608ec\")>,\n",
       " <selenium.webdriver.firefox.webelement.FirefoxWebElement (session=\"031d6609-2292-48a5-8a1a-731f434181bb\", element=\"883de3ef-21c3-477c-845e-1e51401c9e45\")>,\n",
       " <selenium.webdriver.firefox.webelement.FirefoxWebElement (session=\"031d6609-2292-48a5-8a1a-731f434181bb\", element=\"42f5ff1c-26e8-43fd-b60b-495ce26e01e8\")>,\n",
       " <selenium.webdriver.firefox.webelement.FirefoxWebElement (session=\"031d6609-2292-48a5-8a1a-731f434181bb\", element=\"b87c2301-fb5a-463d-afa8-19944b70995f\")>,\n",
       " <selenium.webdriver.firefox.webelement.FirefoxWebElement (session=\"031d6609-2292-48a5-8a1a-731f434181bb\", element=\"b9a0aded-5b71-4ac8-a86c-6ba9f452169a\")>,\n",
       " <selenium.webdriver.firefox.webelement.FirefoxWebElement (session=\"031d6609-2292-48a5-8a1a-731f434181bb\", element=\"5bb3bf1b-4738-418c-b964-b060605bb755\")>,\n",
       " <selenium.webdriver.firefox.webelement.FirefoxWebElement (session=\"031d6609-2292-48a5-8a1a-731f434181bb\", element=\"245a2aab-743d-4442-bd4f-482c5aa07d2b\")>]"
      ]
     },
     "execution_count": 212,
     "metadata": {},
     "output_type": "execute_result"
    }
   ],
   "source": [
    "# Extract all thags with job titles\n",
    "# Xpath=//tagname[@Attibute='Value']\n",
    "series=driver.find_elements_by_xpath(\"/html/body/div[4]/div/div/div[2]/section/div/div/a[*]/div[2]/div[1]/span[2]\")\n",
    "series[0:20]"
   ]
  },
  {
   "cell_type": "markdown",
   "metadata": {},
   "source": [
    "Question 3"
   ]
  },
  {
   "cell_type": "markdown",
   "metadata": {},
   "source": [
    "Scrape the details of selenium exception from guru99.com.\n",
    "Url = https://www.guru99.com/\n",
    "You need to find following details:\n",
    "A) Name\n",
    "B) Description\n",
    "Note: - From guru99 home page you have to reach to selenium exception handling page through code."
   ]
  },
  {
   "cell_type": "code",
   "execution_count": null,
   "metadata": {},
   "outputs": [],
   "source": []
  },
  {
   "cell_type": "markdown",
   "metadata": {},
   "source": [
    "Question 4"
   ]
  },
  {
   "cell_type": "markdown",
   "metadata": {},
   "source": [
    "Scrape the details of State-wise GDP of India from statisticstime.com.\n",
    "Url = http://statisticstimes.com/\n",
    "You have to find following details:\n",
    "A) Rank\n",
    "B) State\n",
    "C) GSDP(18-19)\n",
    "D) GSDP(17-18)\n",
    "E) Share(2017)\n",
    "F) GDP($ billion)\n",
    "Note: - From statisticstimes home page you have to reach to economy page through code."
   ]
  },
  {
   "cell_type": "code",
   "execution_count": null,
   "metadata": {},
   "outputs": [],
   "source": []
  },
  {
   "cell_type": "markdown",
   "metadata": {},
   "source": [
    "Question 5"
   ]
  },
  {
   "cell_type": "markdown",
   "metadata": {},
   "source": [
    "Scrape the details of trending repositories on Github.com.\n",
    "Url = https://github.com/\n",
    "You have to find the following details:\n",
    "A) Repository title\n",
    "B) Repository description\n",
    "C) Contributors count\n",
    "D) Language used\n",
    "ASSIGNMENT\n",
    "Note: - From the home page you have to click on the trending option from Explore menu through code."
   ]
  },
  {
   "cell_type": "code",
   "execution_count": null,
   "metadata": {},
   "outputs": [],
   "source": []
  },
  {
   "cell_type": "markdown",
   "metadata": {},
   "source": [
    "Question 6"
   ]
  },
  {
   "cell_type": "markdown",
   "metadata": {},
   "source": [
    "Scrape the details of top 100 songs on billiboard.com.\n",
    "Url = https://www.billiboard.com/\n",
    "You have to find the following details:\n",
    "A) Song name\n",
    "B) Artist name\n",
    "C) Last week rank\n",
    "D) Peak rank\n",
    "E) Weeks on board\n",
    "Note: - From the home page you have to click on the charts option then hot 100-page link through code."
   ]
  },
  {
   "cell_type": "code",
   "execution_count": null,
   "metadata": {},
   "outputs": [],
   "source": []
  },
  {
   "cell_type": "raw",
   "metadata": {},
   "source": [
    "Question 7"
   ]
  },
  {
   "cell_type": "markdown",
   "metadata": {},
   "source": [
    "Scrape the details of Data science recruiters from naukri.com.\n",
    "Url = https://www.naukri.com/\n",
    "You have to find the following details:\n",
    "A) Name\n",
    "B) Designation\n",
    "C) Company\n",
    "D) Skills they hire for\n",
    "E) Location\n",
    "Note: - From naukri.com homepage click on the recruiters option and the on the search pane type Data science and\n",
    "click on search. All this should be done through code."
   ]
  },
  {
   "cell_type": "code",
   "execution_count": null,
   "metadata": {},
   "outputs": [],
   "source": []
  },
  {
   "cell_type": "markdown",
   "metadata": {},
   "source": [
    "Question 8"
   ]
  },
  {
   "cell_type": "markdown",
   "metadata": {},
   "source": [
    "Scrape the details of Highest selling novels.\n",
    "Url = https://www.theguardian.com/news/datablog/2012/aug/09/best-selling-books-all-time-fifty-shades-greycompare/\n",
    "You have to find the following details:\n",
    "A) Book name\n",
    "B) Author name\n",
    "C) Volumes sold\n",
    "D) Publisher\n",
    "E) Genre"
   ]
  },
  {
   "cell_type": "code",
   "execution_count": null,
   "metadata": {},
   "outputs": [],
   "source": []
  },
  {
   "cell_type": "markdown",
   "metadata": {},
   "source": [
    "Question 9"
   ]
  },
  {
   "cell_type": "markdown",
   "metadata": {},
   "source": [
    " Scrape the details most watched tv series of all time from imdb.com.\n",
    "Url = https://www.imdb.com/list/ls095964455/\n",
    "You have to find the following details:\n",
    "A) Name\n",
    "B) Year span\n",
    "C) Genre\n",
    "D) Run time\n",
    "E) Ratings\n",
    "F) Votes"
   ]
  },
  {
   "cell_type": "code",
   "execution_count": null,
   "metadata": {},
   "outputs": [],
   "source": []
  },
  {
   "cell_type": "markdown",
   "metadata": {},
   "source": [
    "Question 10"
   ]
  },
  {
   "cell_type": "markdown",
   "metadata": {},
   "source": [
    "Details of Datasets from UCI machine learning repositories.\n",
    " Url = https://archive.ics.uci.edu/\n",
    " You have to find the following details:\n",
    "A) Dataset name\n",
    "B) Data type\n",
    "C) Task\n",
    "D) Attribute type\n",
    "E) No of instances\n",
    "F) No of attribute\n",
    "G) Year\n",
    "Note: - from the home page you have to go to the ShowAllDataset page through code."
   ]
  },
  {
   "cell_type": "code",
   "execution_count": null,
   "metadata": {},
   "outputs": [],
   "source": []
  }
 ],
 "metadata": {
  "kernelspec": {
   "display_name": "Python 3",
   "language": "python",
   "name": "python3"
  },
  "language_info": {
   "codemirror_mode": {
    "name": "ipython",
    "version": 3
   },
   "file_extension": ".py",
   "mimetype": "text/x-python",
   "name": "python",
   "nbconvert_exporter": "python",
   "pygments_lexer": "ipython3",
   "version": "3.7.6"
  }
 },
 "nbformat": 4,
 "nbformat_minor": 4
}
